{
 "cells": [
  {
   "cell_type": "markdown",
   "metadata": {},
   "source": [
    "# Einführung\n",
    "Das Notebook ist eine Gedankenstütze als Vorbereitung für die 5. Prüfungskomponente für meine Abiturprüfung 2019 am Abendgymnasium Prenzlauer Berg Berlin.\n",
    "\n",
    "Ziel ist es, ein Thema zu finden, was grundlegend die Fächer Deutsch und Informatik verbindet.\n",
    "\n",
    "Deutsch, weil ich durch meine Fächerwahl für die Q-Phase nur zwischen Politikwissenschaft und Deutsch wählen kann. Bei Politikwissenschaft bin ich der Meinung, dass ich bei Problemen in der mündlichen Prüfung (die alternative zur Präsentationsprüfung) leichter etwas aus dem \"Ärmel schütteln\" kann.\n",
    "\n",
    "\n"
   ]
  },
  {
   "cell_type": "markdown",
   "metadata": {},
   "source": [
    "# Themenfindung\n",
    "\n",
    "- Untersuche bedeutende Deutsche Literatur und vergleiche die Texte oder die Autoren\n",
    "- kombiniere das mit heutiger hate speech\n",
    "- eventuell eine sentiment analyse\n",
    "- haben sich die texte verändert?\n",
    "- kann man schiller und göthe vergleichen\n",
    "- selbst im Abi gelesene Bücher untersuchen\n"
   ]
  },
  {
   "cell_type": "markdown",
   "metadata": {},
   "source": [
    "# Datasets\n",
    "- Soziales Netzwerk von Engländern zwischen 1500 und 1700\n",
    "    https://www.kaggle.com/rtatman/six-degrees-of-francis-bacon\n",
    "    \n",
    "- Stopwords für verschiedene Sprachen, mir geht es selbstverständlich um deutsch\n",
    "    https://www.kaggle.com/rtatman/stopword-lists-for-19-languages\n",
    "   \n",
    "- Projekt Deutscher Wortschatz\n",
    "    enthält den Korpus(deutsche Sätze) und SentiWS (opinionmining)\n",
    "    http://wortschatz.uni-leipzig.de/de/download\n",
    "    ![alt text](leipzig_datasets.png)\n",
    "    <img src=\"leipzig_datasets.png\"> \n",
    "\n"
   ]
  },
  {
   "cell_type": "markdown",
   "metadata": {},
   "source": [
    "# Beispiel Projekte\n",
    "\n",
    "- sentiment Analyse am Beispiel der Simpsons\n",
    "    http://toddwschneider.com/posts/the-simpsons-by-the-data/\n",
    "    \n",
    "- sentiment analyse mit R\n",
    "    https://sarajkerr.com/wp-content/uploads/2017/01/Workshop1.pdf"
   ]
  },
  {
   "cell_type": "code",
   "execution_count": null,
   "metadata": {
    "collapsed": true
   },
   "outputs": [],
   "source": []
  },
  {
   "cell_type": "markdown",
   "metadata": {},
   "source": [
    "# hilfreiche Software - Programmier - Bibliotheken\n",
    "http://www.coli.uni-saarland.de/~csporled/page.php?id=tools"
   ]
  },
  {
   "cell_type": "markdown",
   "metadata": {},
   "source": [
    "sentiment analyse weimarer klassik\n",
    "bücher/ werke:\n",
    "\n",
    "  check -  Iphigenie auf Tauris (1787) - Goethe\n",
    "    Don Carlos, Infant von Spanien (1787) - Schiller\n",
    "    Die Götter Griechenlands (1788) - Schiller\n",
    "  check -  Faust, ein Fragment (1790) - Goethe\n",
    "    Briefe zur Beförderung der Humanität (1793-97) - Herder\n",
    "    Über die ästhetische Erziehung des Menschen, in einer Reihe von Briefen (1795) - Schiller\n",
    "  check -  Wilhelm Meisters Lehrjahre (1795/96) - Goethe\n",
    "    Über naive und sentimentale Dichtung (1795/96) - Schiller\n",
    "    Das Lied von der Glocke (1797) - Schiller\n",
    "    Hermann und Dorothea (1797) - Goethe\n",
    "    Wallenstein (1798/99) - Schiller\n",
    "    Maria Stuart (1800) - Schiller\n",
    "    Wilhelm Tell (1804) - Schiller\n",
    "    Faust I (1806) - Goethe\n",
    "    Aus meinem Leben. Dichtung und Wahrheit (1811/14) - Goethe\n",
    "    West-östlicher Divan (1819) - Goethe\n",
    "    Urworte. Orphisch (1820) - Goethe\n",
    "    Wilhelm Meisters Wanderjahre (1821) - Goethe\n",
    "    Faust II (1831) - Goethe\n",
    "    \n",
    "\n",
    "\n",
    "Christoph Martin Wieland\n",
    "\n",
    "    Alceste, deutsches Singspiel (1773, Uraufführung: Weimar, 25. Mai 1773)\n",
    "    Die Geschichte der Abderiten, Roman (Leipzig 1774–1780)\n",
    "    Hann und Gulpenheh, Verserzählung (Weimar 1778)\n",
    "    Schach Lolo, Verserzählung (Weimar 1778)\n",
    "    Oberon, Verserzählung (Weimar 1780; gekürzte Fassung: Leipzig 1784)\n",
    "    Dschinnistan (3 Bände, Winterthur 1786–1789)\n",
    "    Geheime Geschichte des Philosophen Peregrinus Proteus, Roman (Vorabdruck: Weimar 1788/89; Leipzig 1791)\n",
    "    Agathodämon, Roman (Leipzig 1796–1797)\n",
    "    Aristipp und einige seiner Zeitgenossen, Briefroman (4 Bände, Leipzig: Göschen 1800–1802)\n",
    "\n",
    "Johann Wolfgang (von) Goethe\n",
    "\n",
    "    Egmont (Trauerspiel, begonnen 1775, im Druck 1788)\n",
    "    Wilhelm Meisters theatralische Sendung („Urmeister“, Roman, ab 1776, im Druck 1911)\n",
    "    Iphigenie auf Tauris (Drama, im Druck 1787)\n",
    "    Torquato Tasso (Drama, ab 1780, im Druck 1790)\n",
    "    Römische Elegien (entstanden 1788–90)\n",
    "    Venezianische Epigramme (1790)\n",
    "    Faust. Ein Fragment (1790)\n",
    "    Der Bürgergeneral (Lustspiel, 1793)\n",
    "    Reineke Fuchs (Epos in Hexametern, 1794)\n",
    "    Unterhaltungen deutscher Ausgewanderten (1795)\n",
    "    Wilhelm Meisters Lehrjahre (1795/96)\n",
    "    Xenien (Gedichte, zusammen mit Schiller, 1796)\n",
    "    Novelle (ab 1797)\n",
    "    Hermann und Dorothea (Idylle in Hexametern, 1798)\n",
    "    Die natürliche Tochter (Trauerspiel, 1804)\n",
    "\n",
    "Johann Gottfried Herder\n",
    "\n",
    "    Volkslieder nebst untermischten anderen Stücken (1778–1779, erst in der 2. Auflage 1807 unter dem Titel Stimmen der Völker in Liedern)\n",
    "    Ideen zur Philosophie der Geschichte der Menschheit (4 Teile 1784–1791)\n",
    "    Briefe zur Beförderung der Humanität; zehn Sammlungen (1791–1797)\n",
    "    Terpsichore, Lübeck 1795\n",
    "    Christliche Schriften, Riga 1796–1799, 5 Sammlungen\n",
    "    Metakritik zur Kritik der reinen Vernunft, Leipzig 1799, 2 Teile\n",
    "    Kalligone, Leipzig 1800\n",
    "\n",
    "Friedrich (von) Schiller\n",
    "\n",
    "    Don Karlos (1787)\n",
    "    Über den Grund des Vergnügens an tragischen Gegenständen (1792)\n",
    "    Augustenburger Briefe (1793)\n",
    "    Über Anmut und Würde (1793)\n",
    "    Kallias-Briefe (1793)\n",
    "    Die Horen (1795)\n",
    "    Über die ästhetische Erziehung des Menschen (1795)\n",
    "    Über naive und sentimentalische Dichtung (1795)\n",
    "    Der Taucher (1797)\n",
    "    Die Kraniche des Ibykus (1797)\n",
    "    Ritter Toggenburg (1797)\n",
    "    Der Ring des Polykrates (1797)\n",
    "    Die Bürgschaft (1798)\n",
    "    Wallenstein-Trilogie (1799)\n",
    "    Das Lied von der Glocke (1799)\n",
    "    Maria Stuart (1800)\n",
    "    Die Jungfrau von Orléans (1801)\n",
    "    Die Braut von Messina (1803)\n",
    "    Das Siegesfest (1803)\n",
    "    Wilhelm Tell (1803/04)\n",
    "    Die Huldigung der Künste (1804)\n",
    "    Demetrius (unvollendet; 1805)\n",
    "\n"
   ]
  }
 ],
 "metadata": {
  "anaconda-cloud": {},
  "kernelspec": {
   "display_name": "Python [conda root]",
   "language": "python",
   "name": "conda-root-py"
  },
  "language_info": {
   "codemirror_mode": {
    "name": "ipython",
    "version": 3
   },
   "file_extension": ".py",
   "mimetype": "text/x-python",
   "name": "python",
   "nbconvert_exporter": "python",
   "pygments_lexer": "ipython3",
   "version": "3.5.2"
  }
 },
 "nbformat": 4,
 "nbformat_minor": 1
}
