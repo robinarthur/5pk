{
 "cells": [
  {
   "cell_type": "code",
   "execution_count": null,
   "metadata": {},
   "outputs": [],
   "source": [
    "'Ein Bild sagt mehr als tausend Worte. '\n",
    "\n",
    "\n",
    "\n",
    "'Inwieweit lassen die gravierenden des \\\n",
    "Übergangs vom Sturm und Drang hin zur Weimarer Klassik in \\ \n",
    "Friedrich Schillers Schriftsprache mit aktuellen \\\n",
    "Methoden der Computerlinguistik quantifizieren?'\n",
    "\n",
    "\n",
    "\n",
    "'Inwieweit lassen sich Änderungen von Friedrich Schillers Schriftsprache \\\n",
    "über die Jahre durch Computerlinguistik qualifiezieren \\\n",
    "und kann man parallelen zur Verschmelzung von Aufklärung \\\n",
    "und Sturm und Drang hin zur Weimarer Klassik damit nachweisen?'\n",
    "\n",
    "\n",
    "'Expose:\\\n",
    "        \\\n",
    "    Textanalysen sind in der Oberstufe sehr wichtig und nehmen viel\\\n",
    "    Zeit des Unterrichts in Anspruch. Moderne Methoden der Computerlinguistik\\\n",
    "    können uns schon heute eine Viezahl der \\\n",
    "        \\\n",
    "        \\\n",
    "        \\\n",
    "    \n",
    "Ein Bild sagt mehr als tausend Worte. \n",
    "    \n",
    "\n"
   ]
  }
 ],
 "metadata": {
  "kernelspec": {
   "display_name": "Python 3",
   "language": "python",
   "name": "python3"
  },
  "language_info": {
   "codemirror_mode": {
    "name": "ipython",
    "version": 3
   },
   "file_extension": ".py",
   "mimetype": "text/x-python",
   "name": "python",
   "nbconvert_exporter": "python",
   "pygments_lexer": "ipython3",
   "version": "3.6.4"
  }
 },
 "nbformat": 4,
 "nbformat_minor": 2
}
