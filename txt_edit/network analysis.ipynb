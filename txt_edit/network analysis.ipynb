{
 "cells": [
  {
   "cell_type": "code",
   "execution_count": null,
   "metadata": {},
   "outputs": [],
   "source": [
    "%%time\n",
    "\n",
    "import pickle\n",
    "import sqlite3\n",
    "import numpy as np\n",
    "import pandas as pd\n",
    "from sqlite3 import Error\n",
    "\n",
    "#############################\n",
    "#\n",
    "# load the data\n",
    "#\n",
    "#############################\n",
    "\n",
    "\n",
    "\n",
    "with open('cleaned_sentences.pickle', 'rb') as handle:\n",
    "    cleaned_sentences = pickle.load(handle) \n",
    "    \n",
    "    \n",
    "# look at http://pythondata.com/category/text-analytics/"
   ]
  }
 ],
 "metadata": {
  "kernelspec": {
   "display_name": "Python 3",
   "language": "python",
   "name": "python3"
  },
  "language_info": {
   "codemirror_mode": {
    "name": "ipython",
    "version": 3
   },
   "file_extension": ".py",
   "mimetype": "text/x-python",
   "name": "python",
   "nbconvert_exporter": "python",
   "pygments_lexer": "ipython3",
   "version": "3.5.2"
  }
 },
 "nbformat": 4,
 "nbformat_minor": 2
}
