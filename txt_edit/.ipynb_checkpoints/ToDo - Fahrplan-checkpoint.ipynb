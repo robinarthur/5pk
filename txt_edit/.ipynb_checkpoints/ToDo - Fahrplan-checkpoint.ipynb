{
 "cells": [
  {
   "cell_type": "markdown",
   "metadata": {},
   "source": [
    "# Es gibt drei Hauptaufgaben zur Zeit\n",
    " \n",
    " - Corpusdatenbank erstellen, vllt auch nur eine große Ansammlung einzelner Sätze mit Autor, Buch, Erscheinungsjahr\n",
    " - ML Beispiele aus dem Netz nachstellen (kaggle, ....)\n",
    " - Sentiment Analyse mit SentiWS / Wortschatz der Uni Leipzi\n",
    " "
   ]
  }
 ],
 "metadata": {
  "kernelspec": {
   "display_name": "Python 3",
   "language": "python",
   "name": "python3"
  },
  "language_info": {
   "codemirror_mode": {
    "name": "ipython",
    "version": 2
   },
   "file_extension": ".py",
   "mimetype": "text/x-python",
   "name": "python",
   "nbconvert_exporter": "python",
   "pygments_lexer": "ipython2",
   "version": "2.7.12"
  }
 },
 "nbformat": 4,
 "nbformat_minor": 2
}
