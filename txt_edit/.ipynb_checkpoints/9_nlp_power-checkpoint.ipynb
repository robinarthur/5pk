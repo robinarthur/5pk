{
 "cells": [
  {
   "cell_type": "code",
   "execution_count": 7,
   "metadata": {},
   "outputs": [
    {
     "data": {
      "text/plain": [
       "5746"
      ]
     },
     "execution_count": 7,
     "metadata": {},
     "output_type": "execute_result"
    }
   ],
   "source": [
    "# Beispiel aus dem IX Artikel\n",
    "\n",
    "import spacy\n",
    "from pathlib import Path\n",
    " \n",
    "#!{sys.executable} -m spacy download de\n",
    "nlp = spacy.load('de')\n",
    "doc = nlp(\"Ich heiße Christian und habe heute eine Präsentationsprüfung.\")\n",
    "svg = spacy.displacy.render(doc, style='dep')\n",
    "\n",
    "output_path = Path(\"./data/img/sentence.svg\")\n",
    "output_path.open(\"w+\", encoding=\"utf-8\").write(svg)\n"
   ]
  },
  {
   "cell_type": "code",
   "execution_count": null,
   "metadata": {},
   "outputs": [],
   "source": []
  }
 ],
 "metadata": {
  "kernelspec": {
   "display_name": "Python 3",
   "language": "python",
   "name": "python3"
  },
  "language_info": {
   "codemirror_mode": {
    "name": "ipython",
    "version": 3
   },
   "file_extension": ".py",
   "mimetype": "text/x-python",
   "name": "python",
   "nbconvert_exporter": "python",
   "pygments_lexer": "ipython3",
   "version": "3.6.8"
  }
 },
 "nbformat": 4,
 "nbformat_minor": 2
}
