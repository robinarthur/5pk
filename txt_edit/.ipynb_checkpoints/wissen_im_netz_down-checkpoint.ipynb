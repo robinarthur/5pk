{
 "cells": [
  {
   "cell_type": "code",
   "execution_count": null,
   "metadata": {},
   "outputs": [],
   "source": [
    "# Import all the necessary libraries\n",
    "\n",
    "import os\n",
    "import sys\n",
    "\n",
    "from bs4 import BeautifulSoup\n",
    "from urllib.request import Request, urlopen\n"
   ]
  },
  {
   "cell_type": "code",
   "execution_count": null,
   "metadata": {},
   "outputs": [],
   "source": [
    "# Unter dem folgenden Link (base) finden sich alle Gedichte von Friedrich Schiller auf gutenberg.spiegel.de\n",
    "# die einzelnen Ausgaben werden dahinter einfach hochgezählt (max 154)\n",
    "# mit folgendem Script könnten die Gedichte heruntergeladen und in eine Textdatei abgespeichert werden.\n",
    "# \n",
    "\n",
    "\n",
    "base = 'http://gutenberg.spiegel.de/buch/gedichte-9097/'\n",
    "\n",
    "for n in range(41, 156):\n",
    "    print(n)\n",
    "    url = base + str(n)\n",
    "    req = Request(url, headers={'User-Agent': 'Mozilla/5.0'})\n",
    "    url = urlopen(req)\n",
    "    content = url.read()\n",
    "    soup = BeautifulSoup(content, 'lxml')\n",
    "    \n",
    "    text = ''\n",
    "    \n",
    "    div = soup.findAll(\"div\",{\"id\" : \"gutenb\"})\n",
    "    for tag in div:\n",
    "        t = tag.get_text()\n",
    "        text += t\n",
    "\n",
    "    tempfile = 'temp.txt'\n",
    "        \n",
    "    with open(tempfile, 'w') as temp:\n",
    "        temp.write(text)\n",
    "\n",
    "    # open the textfile\n",
    "    with open(tempfile, 'r') as f:\n",
    "        text_lines = f.readlines()\n",
    "        f.close()\n",
    "    \n",
    "    # get the title of the poem\n",
    "    title = text_lines[1]\n",
    "    \n",
    "    # folgendes ist notwendig, damit der new line character nicht im \n",
    "    # titel erscheint. \n",
    "    title = title[:-2]\n",
    "    print(title)\n",
    "    #write the poem into its own textfile\n",
    "    with open('./input/txt/to_process/' + str(title) + '.txt', 'w') as pfile:\n",
    "        pfile.write(text)\n",
    "        \n",
    "\n",
    "    ## Try to delete the temp file ##\n",
    "    try:\n",
    "        os.remove(tempfile)\n",
    "    except OSError as e:  ## if failed, report it back to the user ##\n",
    "        print (\"Error: %s - %s.\" % (e.filename, e.strerror))\n",
    "   \n",
    " "
   ]
  },
  {
   "cell_type": "code",
   "execution_count": null,
   "metadata": {},
   "outputs": [],
   "source": []
  }
 ],
 "metadata": {
  "kernelspec": {
   "display_name": "Python 3",
   "language": "python",
   "name": "python3"
  },
  "language_info": {
   "codemirror_mode": {
    "name": "ipython",
    "version": 3
   },
   "file_extension": ".py",
   "mimetype": "text/x-python",
   "name": "python",
   "nbconvert_exporter": "python",
   "pygments_lexer": "ipython3",
   "version": "3.6.8"
  }
 },
 "nbformat": 4,
 "nbformat_minor": 2
}
