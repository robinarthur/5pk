{
 "cells": [
  {
   "cell_type": "markdown",
   "metadata": {},
   "source": [
    "# This Notebook holds the helper functions to save all the text into the json files ordered from year to year, \n",
    "# the json file contains a list of dicts, every dict is one book"
   ]
  },
  {
   "cell_type": "code",
   "execution_count": 61,
   "metadata": {},
   "outputs": [],
   "source": [
    "# some useful imports\n",
    "import pandas as pd\n",
    "import numpy as np\n",
    "import json\n",
    "import csv\n"
   ]
  },
  {
   "cell_type": "code",
   "execution_count": 69,
   "metadata": {},
   "outputs": [
    {
     "name": "stdout",
     "output_type": "stream",
     "text": [
      "<_io.TextIOWrapper name='./db/schiller.csv' mode='r' encoding='UTF-8'>\n"
     ]
    }
   ],
   "source": [
    "# http://stackabuse.com/reading-and-writing-json-to-a-file-in-python/\n",
    "# this site have in general the explanation for the json stuff\n",
    "\n",
    "# the json file here contains a list of dicts, every dict is one book\n",
    "\n",
    "# json.dump({'price': '€10'}, ensure_ascii=False)\n",
    "\n",
    "# function to fill our book json like\n",
    "def spider_the_book(number, name, year):\n",
    "    book = {}\n",
    "    name = 'Demetrius'\n",
    "    year = int(1805)\n",
    "\n",
    "    # open the textfile\n",
    "    file = open('./input/txt/' + number + '.txt', 'r')\n",
    "    text = file.read()\n",
    "    file.close()\n",
    "\n",
    "    book['number'] = number\n",
    "    book['name'] = name\n",
    "    book['year'] = year\n",
    "    book['text'] = text\n",
    "    \n",
    "    return book\n",
    "\n",
    "\n",
    "def save_to_json(data):\n",
    "    \"\"\" save the given data into a textfile\"\"\"\n",
    "    with open('./data/data.txt', 'a') as outfile:\n",
    "        json.dump(data, outfile, sort_keys = True, ensure_ascii = False)\n",
    "\n",
    "def collect_the_infos_of_books():\n",
    "    \"\"\" open a given csv file, get all the columns and give back the data as a list\"\"\"\n",
    "    with open('./db/schiller.csv') as csvfile:\n",
    "        print(csvfile)\n",
    "        readCSV = csv.reader(csvfile, delimiter=',')\n",
    "        ids = []\n",
    "        names = []\n",
    "        types = []\n",
    "        years = []\n",
    "        for row in readCSV:\n",
    "            i = row[0]\n",
    "            n = row[1]\n",
    "            t = row[2]\n",
    "            y = row[3]\n",
    "            \n",
    "            ids.append(i)\n",
    "            names.append(n)\n",
    "            types.append(t)\n",
    "            years.append(y)\n",
    "            \n",
    "            schiller = [ids, names, types, years]\n",
    "    \n",
    "            \"\"\"\n",
    "            # this is a little searchtool\n",
    "            whatnumber = input('What color do you wish to know the date of?:')\n",
    "            if len(whatnumber) == 1:\n",
    "                whatnumber = '000' + str(whatnumber)\n",
    "            if len(whatnumber) == 2:\n",
    "                whatnumber = '00' + str(whatnumber)\n",
    "            if len(whatnumber) == 3:\n",
    "                whatnumber = '0' + str(whatnumber)\n",
    "        \n",
    "            iddex = ids.index(whatnumber)\n",
    "            name = names[iddex]\n",
    "            print('The name of Book number',whatnumber,'is: ',name)\n",
    "        \n",
    "            \"\"\" \n",
    "    return schiller\n",
    "        \n",
    "\n",
    "data = []\n",
    "s = collect_the_infos_of_books()\n",
    "\n",
    "\n",
    "for werk in range(1, 4):\n",
    "    if len(str(werk)) == 1:\n",
    "        number = '000' + str(werk)\n",
    "    if len(str(werk)) == 2:\n",
    "        number = '00' + str(werk)\n",
    "    if len(str(werk)) == 3:\n",
    "        number = '0' + str(werk)\n",
    "        \n",
    "    name = s[1][werk]\n",
    "    year = s[2][werk]\n",
    "    \n",
    "    # spider all the information into a list\n",
    "    data.append(spider_the_book_infos(number, name, year))\n",
    "\n",
    "    \n",
    "\n",
    "save_to_json(data)\n",
    "\n",
    "# i have to figure out how i can store the books human friendly\n",
    "# number 4 is missing and the rest\n",
    "\n",
    "        \n"
   ]
  },
  {
   "cell_type": "code",
   "execution_count": 50,
   "metadata": {},
   "outputs": [
    {
     "name": "stdout",
     "output_type": "stream",
     "text": [
      "['#', '0001', '0002', '0003', '0004', '0005', '0006', '0007', '0008', '0009', '0010', '0011', '0012', '0013', '0014', '0015', '0016', '0017', '0018', '0019', '0020', '0021', '0022', '0023', '0024', '0025', '0026', '0027', '0028', '0029', '0030']\n",
      "--\n",
      "['Name', 'Demetrius', 'Der versöhnte Menschenfeind', 'Die Braut von Messina', 'Die Huldigung der Künste', 'Die Jungfrau von Orleans', 'Die Räuber', 'Die Verschwörung des Fiesco zu Genua', 'Don Carlos', 'Kabale und Liebe', 'Maria Stuart', 'Semele', 'Wallenstein', 'Wilhelm Tell', 'Der Abend', '', '', '', '', '', '', '', '', '', '', '', '', '', '', '', '']\n",
      "--\n",
      "['Type', 'D', 'D', 'D', 'L', 'D', 'D', 'D', 'D', 'D', 'D', 'L', 'D', 'D', 'L', '', '', '', '', '', '', '', '', '', '', '', '', '', '', '', '']\n",
      "--\n",
      "['Year', '1805', '1790', '1803', '1804', '1801', '1781', '1783', '1788', '1784', '1800', '1782', '1799', '1804', '1776', '', '', '', '', '', '', '', '', '', '', '', '', '', '', '', '']\n"
     ]
    }
   ],
   "source": [
    "print(s[0])\n",
    "print('--')\n",
    "print(s[1])\n",
    "print('--')\n",
    "print(s[2])\n",
    "print('--')\n",
    "print(s[3])"
   ]
  },
  {
   "cell_type": "code",
   "execution_count": 13,
   "metadata": {},
   "outputs": [
    {
     "name": "stdout",
     "output_type": "stream",
     "text": [
      "<_io.TextIOWrapper name='./data/data.txt' mode='r' encoding='UTF-8'>\n",
      "280660\n"
     ]
    }
   ],
   "source": [
    "# does not work very well\n",
    "\n",
    "import json\n",
    "\n",
    "with open('./data/data.txt', 'r') as data:\n",
    "    print(data)\n",
    "    d = data.read()\n",
    "    d = d[1:-1]\n",
    "    d = json.dumps(d, indent=4, sort_keys=True, ensure_ascii=False)\n",
    "    d = d[1:-1]\n",
    "    #d = dict(d)\n",
    "    print(len(d))\n",
    "    \n"
   ]
  },
  {
   "cell_type": "code",
   "execution_count": null,
   "metadata": {},
   "outputs": [],
   "source": [
    "data = pd.DataFrame()\n",
    "for number in range(1,4):\n",
    "    number = str(000) + str(number)\n",
    "    data = pd.concat([data, pd.read_json(\"%d.txt\" % number, orient=\"records\")], ignore_index=True)"
   ]
  }
 ],
 "metadata": {
  "kernelspec": {
   "display_name": "Python 3",
   "language": "python",
   "name": "python3"
  },
  "language_info": {
   "codemirror_mode": {
    "name": "ipython",
    "version": 3
   },
   "file_extension": ".py",
   "mimetype": "text/x-python",
   "name": "python",
   "nbconvert_exporter": "python",
   "pygments_lexer": "ipython3",
   "version": "3.6.4"
  }
 },
 "nbformat": 4,
 "nbformat_minor": 2
}
