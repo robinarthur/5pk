{
 "cells": [
  {
   "cell_type": "markdown",
   "metadata": {},
   "source": [
    "- hierfür brauche ich den Wortschatz der Uni Leipzig bzw. SentiWS und Beispieltexte als Corpus\n",
    "- "
   ]
  },
  {
   "cell_type": "code",
   "execution_count": null,
   "metadata": {
    "collapsed": true
   },
   "outputs": [],
   "source": [
    "import nltk\n",
    "\n",
    "class Splitter(object):\n",
    "    \n",
    "    def __init__(self):\n",
    "        pass\n",
    "    \n",
    "    \n",
    "    def split(self, text):\n",
    "        \n",
    "        \"\"\"\n",
    "        \n",
    "        input format: a paragraph of text\n",
    "        \n",
    "        output format: a list of lists of words.\n",
    "        \n",
    "           e.g.: [['this', 'is', 'a', 'sentence'], ['this', 'is', 'another', 'one']]\n",
    "        \n",
    "        \"\"\"\n",
    "        \n",
    "        sentences = self.nltk_splitter.tokenize(text)\n",
    "        \n",
    "        tokenized_sentences = [self.nltk_tokenizer.tokenize(sent) for sent in sentence]\n",
    "        \n",
    "        return tokenized_sentences\n",
    "    \n",
    "    \n",
    "    \n",
    "\n",
    "class POSTagger(object):\n",
    "    \n",
    "    def __init__(self):\n",
    "        pass\n",
    "    \n",
    "    \n",
    "    def pos_tag(self, sentences):\n",
    "        \n",
    "        \"\"\"\n",
    "        \n",
    "        \n",
    "        \"\"\""
   ]
  }
 ],
 "metadata": {
  "kernelspec": {
   "display_name": "Python 3",
   "language": "python",
   "name": "python3"
  },
  "language_info": {
   "codemirror_mode": {
    "name": "ipython",
    "version": 2
   },
   "file_extension": ".py",
   "mimetype": "text/x-python",
   "name": "python",
   "nbconvert_exporter": "python",
   "pygments_lexer": "ipython2",
   "version": "2.7.12"
  }
 },
 "nbformat": 4,
 "nbformat_minor": 2
}
