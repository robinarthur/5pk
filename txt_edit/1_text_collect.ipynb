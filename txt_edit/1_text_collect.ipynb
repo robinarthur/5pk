{
 "cells": [
  {
   "cell_type": "markdown",
   "metadata": {},
   "source": [
    "# This Notebook holds the helper functions to save all the text into the json files ordered from year to year, \n",
    "# the json file contains a list of dicts, every dict is one book"
   ]
  },
  {
   "cell_type": "code",
   "execution_count": 1,
   "metadata": {
    "collapsed": true
   },
   "outputs": [],
   "source": [
    "# some useful imports\n",
    "import pandas as pd\n",
    "import numpy as np\n",
    "import json\n",
    "import csv\n"
   ]
  },
  {
   "cell_type": "code",
   "execution_count": 2,
   "metadata": {
    "collapsed": true
   },
   "outputs": [],
   "source": [
    "###############################################\n",
    "# \n",
    "# try the new database Design. DB is made of a CSV with the following format:\n",
    "# --------------------------------\n",
    "# | ID  | Bookname | Year | Type |\n",
    "# --------------------------------\n",
    "#\n",
    "# the Text is saved in a textfile. It has the same Filename like the id in the DB.\n",
    "# \n",
    "# After that all the statistics would be calculated and every calculation get an own\n",
    "# column in the table.\n",
    "#\n",
    "# So, the actual 2Do is:\n",
    "#\n",
    "# 1. Save all the books into a textfile\n",
    "# 2. fill the db with the names \n",
    "# 3. do the statistics - the easy ones thirst\n",
    "# 4. write the seaborn stuff\n",
    "# 5. create the reveal.js presentaion\n",
    "#\n",
    "###############################################"
   ]
  },
  {
   "cell_type": "code",
   "execution_count": 3,
   "metadata": {
    "collapsed": false
   },
   "outputs": [
    {
     "name": "stdout",
     "output_type": "stream",
     "text": [
      "<_io.TextIOWrapper name='./db/schiller.csv' mode='r' encoding='UTF-8'>\n"
     ]
    }
   ],
   "source": [
    "# http://stackabuse.com/reading-and-writing-json-to-a-file-in-python/\n",
    "# this site have in general the explanation for the json stuff\n",
    "\n",
    "# the json file here contains a list of dicts, every dict is one book\n",
    "\n",
    "# json.dump({'price': '€10'}, ensure_ascii=False)\n",
    "\n",
    "# function to fill our book json like\n",
    "def spider_the_book(number, style, year, name):\n",
    "    book = {}\n",
    "    #name = 'Demetrius'\n",
    "    #year = int(1805)\n",
    "\n",
    "    # open the textfile\n",
    "    file = open('./input/txt/' + number + '.txt', 'r')\n",
    "    text = file.read()\n",
    "    file.close()\n",
    "\n",
    "    book['number'] = number\n",
    "    book['name'] = name\n",
    "    book['year'] = year\n",
    "    book['style'] = style\n",
    "    book['text'] = text\n",
    "    \n",
    "    return book\n",
    "\n",
    "\n",
    "def save_to_json(data):\n",
    "    \"\"\" save the given data into a textfile\"\"\"\n",
    "    with open('./data/data.json', 'a') as outfile:\n",
    "        json.dump(data, outfile, sort_keys = True, ensure_ascii = False)\n",
    "\n",
    "def collect_the_infos_of_books():\n",
    "    \"\"\" open a given csv file, get all the columns and give back the data as a list\"\"\"\n",
    "    with open('./db/schiller.csv') as csvfile:\n",
    "        print(csvfile)\n",
    "        readCSV = csv.reader(csvfile, delimiter=',')\n",
    "        ids = []\n",
    "        names = []\n",
    "        styles = []\n",
    "        years = []\n",
    "        for row in readCSV:\n",
    "            i = row[0]\n",
    "            n = row[1]\n",
    "            s = row[2]\n",
    "            y = row[3]\n",
    "            \n",
    "            ids.append(i)\n",
    "            names.append(n)\n",
    "            styles.append(s)\n",
    "            years.append(y)\n",
    "            \n",
    "            schiller = [ids, names, styles, years]\n",
    "    \n",
    "            \"\"\"\n",
    "            # this is a little searchtool\n",
    "            whatnumber = input('What color do you wish to know the date of?:')\n",
    "            if len(whatnumber) == 1:\n",
    "                whatnumber = '000' + str(whatnumber)\n",
    "            if len(whatnumber) == 2:\n",
    "                whatnumber = '00' + str(whatnumber)\n",
    "            if len(whatnumber) == 3:\n",
    "                whatnumber = '0' + str(whatnumber)\n",
    "        \n",
    "            iddex = ids.index(whatnumber)\n",
    "            name = names[iddex]\n",
    "            print('The name of Book number',whatnumber,'is: ',name)\n",
    "        \n",
    "            \"\"\" \n",
    "    return schiller\n",
    "        \n",
    "\n",
    "data = []\n",
    "s = collect_the_infos_of_books()\n",
    "\n",
    "\n",
    "for werk in range(1, 664):\n",
    "    if werk not in [1000,1001]: # there are some txt files missing\n",
    "        if len(str(werk)) == 1:\n",
    "            number = '000' + str(werk)\n",
    "        if len(str(werk)) == 2:\n",
    "            number = '00' + str(werk)\n",
    "        if len(str(werk)) == 3:\n",
    "            number = '0' + str(werk)\n",
    "            \n",
    "            \n",
    "        name = s[1][werk]\n",
    "        style = s[2][werk]\n",
    "        year = s[3][werk]\n",
    "    \n",
    "        # spider all the information into a list\n",
    "        data.append(spider_the_book(number, style, year, name))    \n",
    "        \n",
    "        \n",
    "    else:\n",
    "        continue\n",
    "        \n",
    "\n",
    "\n",
    "    \n",
    "\n",
    "save_to_json(data)\n",
    "\n",
    "# i have to figure out how i can store the books human friendly\n",
    "# number 4 is missing and the rest\n",
    "\n",
    "        \n"
   ]
  },
  {
   "cell_type": "code",
   "execution_count": 4,
   "metadata": {
    "collapsed": false
   },
   "outputs": [
    {
     "name": "stdout",
     "output_type": "stream",
     "text": [
      "['#', '1', '2', '3', '4', '5', '6', '7', '8', '9', '10', '11', '12', '13', '14', '15', '16', '17', '18', '19', '20', '21', '22', '23', '24', '25', '26', '27', '28', '29', '30', '31', '32', '33', '34', '35', '36', '37', '38', '39', '40', '41', '42', '43', '44', '45', '46', '47', '48', '49', '50', '51', '52', '53', '54', '55', '56', '57', '58', '59', '60', '61', '62', '63', '64', '65', '66', '67', '68', '69', '70', '71', '72', '73', '74', '75', '76', '77', '78', '79', '80', '81', '82', '83', '84', '85', '86', '87', '88', '89', '90', '91', '92', '93', '94', '95', '96', '97', '98', '99', '100', '101', '102', '103', '104', '105', '106', '107', '108', '109', '110', '111', '112', '113', '114', '115', '116', '117', '118', '119', '120', '121', '122', '123', '124', '125', '126', '127', '128', '129', '130', '131', '132', '133', '134', '135', '136', '137', '138', '139', '140', '141', '142', '143', '144', '145', '146', '147', '148', '149', '150', '151', '152', '153', '154', '155', '156', '157', '158', '159', '160', '161', '162', '163', '164', '165', '166', '167', '168', '169', '170', '171', '172', '173', '174', '175', '176', '177', '178', '179', '180', '181', '182', '183', '184', '185', '186', '187', '188', '189', '190', '191', '192', '193', '194', '195', '196', '197', '198', '199', '200', '201', '202', '203', '204', '205', '206', '207', '208', '209', '210', '211', '212', '213', '214', '215', '216', '217', '218', '219', '220', '221', '222', '223', '224', '225', '226', '227', '228', '229', '230', '231', '232', '233', '234', '235', '236', '237', '238', '239', '240', '241', '242', '243', '244', '245', '246', '247', '248', '249', '250', '251', '252', '253', '254', '255', '256', '257', '258', '259', '260', '261', '262', '263', '264', '265', '266', '267', '268', '269', '270', '271', '272', '273', '274', '275', '276', '277', '278', '279', '280', '281', '282', '283', '284', '285', '286', '287', '288', '289', '290', '291', '292', '293', '294', '295', '296', '297', '298', '299', '300', '301', '302', '303', '304', '305', '306', '307', '308', '309', '310', '311', '312', '313', '314', '315', '316', '317', '318', '319', '320', '321', '322', '323', '324', '325', '326', '327', '328', '329', '330', '331', '332', '333', '334', '335', '336', '337', '338', '339', '340', '341', '342', '343', '344', '345', '346', '347', '348', '349', '350', '351', '352', '353', '354', '355', '356', '357', '358', '359', '360', '361', '362', '363', '364', '365', '366', '367', '368', '369', '370', '371', '372', '373', '374', '375', '376', '377', '378', '379', '380', '381', '382', '383', '384', '385', '386', '387', '388', '389', '390', '391', '392', '393', '394', '395', '396', '397', '398', '399', '400', '401', '402', '403', '404', '405', '406', '407', '408', '409', '410', '411', '412', '413', '414', '415', '416', '417', '418', '419', '420', '421', '422', '423', '424', '425', '426', '427', '428', '429', '430', '431', '432', '433', '434', '435', '436', '437', '438', '439', '440', '441', '442', '443', '444', '445', '446', '447', '448', '449', '450', '451', '452', '453', '454', '455', '456', '457', '458', '459', '460', '461', '462', '463', '464', '465', '466', '467', '468', '469', '470', '471', '472', '473', '474', '475', '476', '477', '478', '479', '480', '481', '482', '483', '484', '485', '486', '487', '488', '489', '490', '491', '492', '493', '494', '495', '496', '497', '498', '499', '500', '501', '502', '503', '504', '505', '506', '507', '508', '509', '510', '511', '512', '513', '514', '515', '516', '517', '518', '519', '520', '521', '522', '523', '524', '525', '526', '527', '528', '529', '530', '531', '532', '533', '534', '535', '536', '537', '538', '539', '540', '541', '542', '543', '544', '545', '546', '547', '548', '549', '550', '551', '552', '553', '554', '555', '556', '557', '558', '559', '560', '561', '562', '563', '564', '565', '566', '567', '568', '569', '570', '571', '572', '573', '574', '575', '576', '577', '578', '579', '580', '581', '582', '583', '584', '585', '586', '587', '588', '589', '590', '591', '592', '593', '594', '595', '596', '597', '598', '599', '600', '601', '602', '603', '604', '605', '606', '607', '608', '609', '610', '611', '612', '613', '614', '615', '616', '617', '618', '619', '620', '621', '622', '623', '624', '625', '626', '627', '628', '629', '630', '631', '632', '633', '634', '635', '636', '637', '638', '639', '640', '641', '642', '643', '644', '645', '646', '647', '648', '649', '650', '651', '652', '653', '654', '655', '656', '657', '658', '659', '660', '661', '662', '663']\n",
      "--\n",
      "['Name', 'Demetrius', 'Der versöhnte Menschenfeind', 'Die Braut von Messina', 'Die Huldigung der Künste', 'Die Jungfrau von Orleans', 'Die Räuber', 'Die Verschwörung des Fiesco zu Genua', 'Don Carlos', 'Kabale und Liebe', 'Maria Stuart', 'Semele', 'Wallenstein', 'Wilhelm Tell', 'Der Abend', 'Amalia', 'an die Freude', 'Euripides', 'das Ideal und das Leben', 'das verschleierte Bild zu Sais', 'der Eroberer', 'der Geisterseher', 'der Neffe als Onkel', 'der Parasit', 'der Spaziergang', 'der Venuswagen', 'der Verbrecher aus verlorener Ehre', 'die deutsche Muse', 'die Entzückung an Laura', 'die Götter Griechenlands erste Fassung', 'die Ideale', 'die Journalisten und Minos', 'die Kindsmörderin', 'die Teilung der Erde', 'eine grossmütige Handlung', 'Natur und Schule', 'Hektors Abschied', 'an Emma', 'das Geheimnis', 'das Lied von der Glocke', 'der Gang nach dem Eisenhammer', 'der Handschuh', 'der Ring des Polykrates', 'der Taucher', 'die Kraniche des Ibykus', 'die Geschichte des 30jaehrigen Krieges', 'Ritter Toggenburg', 'Resignation', 'Von den notwendigen Grenzen des Schönen besonders im Vortrag philosophischer Wahrheiten', 'Klage der Ceres', 'Zenith und Nadir', 'Über epische und dramatische Dichtung', 'Sprüche des Konfuzius', 'Laura am Klavier', 'Turandot', 'Geschichten aus dem alten Pitaval', 'Spiel des Schicksals', 'Merkwürdiges Beispiel einer weiblichen Rache', 'an die Freunde', 'an die Proselytenmacher', 'an einen Weltverbesserer', 'an Goethe', 'Archimedes und der Schüler', 'Berglied', 'Breite und Tiefe', 'Columbus', 'Das Eleusische Fest', 'die Götter Griechenlands zweite Fassung', 'das Geschenk', 'das Glück', 'der Alpenjaeger', 'Das Mädchen aus der Fremde', 'Das Mädchen von Orleans', 'Das Siegesfest', 'Das Spiel des Lebens', 'Das weibliche Ideal', 'Die Begegnung', 'Des Mädchens Klage', 'Zeus zu Herkules', 'Der Graf von Habsburg', 'Der Jüngling am Bache', 'An den Frühling', 'An den Herausgeber der Propyläen', 'Nänie', 'Ausgang aus dem Leben', 'das Kind in der Wiege', 'das unwandelbare', 'Theophanie', 'das Höchste', 'Unsterblichkeit', 'im Reich der Schatten', 'die Blumen', 'die Kindsmörderin', 'Die Gesetzgebung des Lykurgus und Solon', 'An Heribert von Dalberg', 'Dido', 'die Zerstörung von Troja', 'die Schlacht', 'an die Freude II', 'Die Schaubuehne als moralische Anstalt betrachtet', 'Die Sendung Moses', 'Über den Zusammenhang der thierischen Natur des Menschen mit seiner geistigen', 'An Wilhelm Petersen', 'Die unüberwindliche Flotte', 'Iphigenie in Aulis', 'über Egmont', 'Etwas über die erste Menschengesellschaft nach dem Leitfaden der mosaischen Urkunde', 'Gedanken über den Gebrauch des gemeinen und niedrigen in der Kunst', 'An Friedrich von Hoven', 'Geschichte des Abfalls der Vereinigten Niederlande von der spanischen Regierung', 'An Oberst von Seeger', 'An Christian Schwan', 'Macbeth', 'An Christophine Schiller', 'Melancholie an Laura', 'Philosophische Briefe', 'Resignation', 'An Frau Elisabetha Margaretha Stoll', 'Über Anmuth und Würde', 'Über Bürgers Gedichte', 'Über das Erhabene', 'Die Maltheser', 'Über den Gartenkalender auf das Jahr 1795', 'Über den Grund des Vergnuegens an tragischen Gegenständen', 'Warbeck', 'Über die ästhetische Erziehung des Menschen in einer Reihe von Briefen', 'Augustenburger Briefe', 'Über die tragische Kunst', 'Über Matthissons Gedichte', 'Über naive und sentimentalische Dichtung', 'An Scharffenstein', 'An Bolgeol', 'An Hauptmann von Hoven', 'Vorrede zu dem ersten Theile der merkwürdigsten Rechtsfälle', 'Vorrede zu der Geschichte des Maltheserordens', 'Was heisst und zu welchem Ende studiert man Universalgeschichte', 'Zerstörte Betrachtungen über verschiedene ästhetische Gegenstände', 'Würden', 'Dem Erbprinzen von Weimar, als er nach Paris reiste', 'Der Antritt des neuen Jahrhunderts', 'Der Genius', 'Der Kampf mit dem Drachen', 'Der Kaufmann', 'Der Metaphysiker', 'Würde der Frauen', 'Der philosophische Egoist', 'Der Pilgrim', 'Der Sämann', 'Der spielende Knabe', 'Der Tanz', 'Deutsche Treue', 'Deutschland und seine Fürsten', 'Die Antike an den nordischen Wanderer', 'Die Antiken zu Paris', 'Die berühmte Frau', 'Die Bürgschaft', 'Die Erwartung', 'Thekla', 'Tugend des Weibes', 'Die Führer des Lebens', 'Die Geschlechter', 'Die Gunst des Augenblicks', 'Reiterlied', 'Die idealische Freiheit', 'Die Johanniter', 'Die Künstler', 'Die Macht des Gesanges', 'Pompeji und Herculanum', 'Punschlied', 'Radowessiers Totenlied', 'Die Sänger der Vorwelt', 'Die schönste Erscheinung', 'Die Sehnsucht', 'Poesie des Lebens', 'Politische Lehre', 'Die vier Weltalter', 'Die Weltweisen', 'Die Worte des Glaubens', 'Die Worte des Wahns', 'Die zwei Tugendwege', 'Distilchen I', 'Distilchen II', 'Distilchen III', 'Dithyrambe', 'Pegasus in Joche', 'Einem jungen Freund', 'Einer jungen Freundin ins Stammbuch', 'Menschliches Wissen', 'Odysseus', 'Hero und Leander', 'Hoffnung', 'Ilias', 'Macht des Weibes', 'Majestas populi', 'Karthago', 'Kassandra', 'Licht und Wärme', 'an C Schwan', 'an F Hoven', 'an C Schiller', 'an H Dalberg', 'an Jakobi', 'an A Streicher', 'an Eltern', 'an H Wuerttemberg', 'an F Schwan', 'an W Reinwald', 'an Seeger', 'an H Wolzogen', 'an C Schiller', 'an Freund', 'an H Dalberg', 'an W Wolzogen', 'an W Reinwald', 'an W Gleim', 'an L Meister', 'an G Goeckingh', 'an H Wolzogen', 'an J A Ebert', 'an G Goeckingk', 'an A Klein', 'an C Schiller', 'an A Knigge', 'an H Dalberg', 'an F Huber', 'an F Grossmann', 'an Rennschueb', 'an W Petersen', 'an W Wolzogen', 'an G Jacobi', 'an H Boie', 'an R Zumsteeg', 'an W Reinwald', 'an C Schwan', 'an Schneider', 'an F Kunze Frau', 'an A Klein', 'an C Schiller', 'an G Goeschen', 'an F Kunze', 'an H Dalberg', 'an F Huber', 'an G Koerner Minna', 'an G Koerner', 'an F Schoeder', 'an H Wolzogen', 'an G Goeschen', 'an C Bertram', 'an F Kunze', 'an F Huber', 'an G Becker', 'an C Wieland', 'an F Schroeder', 'an W Reinwald', 'an G Koerner', 'an S Koch', 'an G Herder', 'an H Wolzogen', 'an S Crusius', 'an C Schroeter', 'an G Goeschen', 'H Wolzogen', 'C Reinwald', 'an G Koenrer', 'an F Huber', 'an F Grossmann', 'an C Wieland', 'an W Wolzogen', 'an F Schroeder', 'an G Koerner', 'an E S Albrecht', 'an C Schwan', 'an H Wolzogen', 'an S Crusius', 'an L Lengeveld C Beulwitz', 'an F Bertuch', 'an G Goeschen', 'an L Lengefeld C Beulwitz', 'an F Huber', 'an L Lengefeld', 'an G Hufeland', 'an C Wieland', 'an W Wolzogen', 'an C Beulwitz', 'an C Ridel', 'an R Zumsteeg', 'an W Reinwald', 'an G Koerner', 'an H Meiningen', 'an L Schubart', 'an S Crusius', 'an L Lengefeld C Beulwietz', 'an G Goeschen', 'G Koerner', 'an L Lengefeld C Beulwitz', 'an F Huber', 'an L Lengefeld', 'an G Hufeland', 'an C Wieland', 'an C Reinwald', 'an C Beulwitz', 'an W Reinwald', 'an K Knebel', 'an L Succow', 'an G Koerner', 'an J Schiller', 'an J Mauke', 'an G Goeschen', 'an J E Schiller', 'an L Lengefeld C Beulwitz', 'an L Schiller', 'an Lotte', 'an F Huber', 'an L Lengefeld', 'an G Hufeland', 'an W Wolzogen', 'an C Reinwald', 'an L Schiller C Beulwitz', 'an C Beulwitz', 'an C Curtius K Rechlin', 'an G Koerner', 'an H Augustenburg', 'an S Crusius', 'an C Murr', 'an J Mauke', 'an G Goeschen', 'an J Baggesen', 'an F Niethammer', 'an L Schiller', 'an C Wieland', 'an J Dominikus', 'an G Koerner', 'an Z Becker', 'an G Goeschen   Kopie', 'an C Curtius', 'an S Crusius', 'an F Hoven', 'an G Goeschen', 'an J Baggesen', 'an C Reinwald', 'an G Goeschen   Kopie [2]', 'an M Wieland', 'an Goes Buchhandlung', 'an G Koerner', 'an J Ramberg', 'an C Schuetz', 'an G Wacks', 'W C Reinwald', 'an L Simanowitz', 'an G Goeschen', 'an B Fischenich', 'an W C Reinwald', 'an J E Schiller', 'an F Huber', 'an F Haug', 'an E Schimmelmann', 'an W Reinwald', 'L Simanowitz', 'an C Kalb', 'an Schuebler', 'an G Koerner', 'an H Gleichen', 'an J Erhard', 'an Z Becker', 'an G Herder', 'an C Schuetz', 'an W Archenholz', 'an F Augustenburg', 'an F Matthisson', 'an C Murr', 'an F Hoven', 'an L Simanowitz', 'an C Schiller', 'an G Goeschen', 'an J Frauenholz', 'an C Garve', 'an E Gemlin', 'an M Becht', 'an W C Reinwald', 'an J E Schiller', 'an F Huber', 'an G Hufeland', 'an B Erhard', 'an I Kant', 'an J Danneker', 'an F Cotta', 'an H Meyer', 'an W Reinwald', 'an W Goethe', 'an F Jacobi', 'an G Koerner', 'an W Humboldt', 'an S Mereau', 'an H Augustenburg', 'an J Ramberg', 'an G Herder', 'an C Schuetz', 'an J Abel', 'an S Crusius', 'an W Archenholz', 'an F Meyer', 'an G Voigt', 'an F Matthisson', 'an C Murr', 'an F Hoven', 'an K Morgenstern', 'an C Zahn', 'an C Garve', 'an G Fichte', 'an G Hartung', 'an F Huber', 'an C Schimmelmann', 'an W Schlegel', 'an A Streicher', 'an B Ehrard', 'an B Erhard', 'an I Kant', 'an F Cotta', 'an F Reichardt', 'an H Meyer', 'an W Goethe', 'an F Jakobi', 'an F Jacobi', 'an G Koerner', 'an F Zelter', 'an W Humboldt', 'an S Mereau', 'an G Herder', 'an E Schiller', 'an W Archenholz', 'an F Hoven', 'an Cotta Buchhandlung', 'an K Spener', 'an F Bolt', 'an C Augustenburg', 'an F Huber', 'an H C Boie', 'an F Haug', 'an K Schiller', 'an L Lengefeld', 'an E Schimmelmann', 'an W Schlegel', 'an C Reinwald', 'an F Cotta', 'an K D Schiller', 'an W Reinwald', 'an W Goethe', 'an F Hoelderlin', 'an K Knebel', 'an G Koerner', 'an F Zelter', 'an J Gries', 'an S Mereau', 'an A Imhoff', 'an K Boettiger', 'an J Langer', 'an C Stein', 'an G Goeschen', 'an C Garve', 'an W C Reinwald', 'an S Laroche', 'an L Lengefeld', 'an G Hufeland', 'an J Horner', 'an W Schlegel', 'an G Breitkopf', 'an W Wolzogen', 'an K Funck', 'an F Cotta', 'an H Meyer', 'an J Unger', 'an W Goethe', 'an G Koerner', 'an W Humboldt', 'an J Campe', 'an K Boettiger', 'an K Brinkman', 'an F Matthisson', 'an C Schiller', 'an A Kotzebue', 'an A Iffland', 'an L Lengefeld', 'an L Brachmann', 'an Uni Jena', 'an F Cotta', 'an W Reinwald', 'an W Goethe', 'an Noehden', 'an G Koerner', 'an G Noehden', 'an F Holleben', 'an J Graff', 'an A Imhoff', 'an K Boettiger', 'an E Schiller', 'an S Crusius', 'an K Jacobi', 'an F Kalb', 'an J Gaedicke', 'an F KIrms', 'an F Kirms', 'an C Schiller', 'an G Goeschen', 'an A Iffland', 'an H Weimar', 'an G Fichte', 'an L Lengefeld', 'an F Cotta', 'an W Reinwald', 'an J Unger', 'an W Goethe', 'an C Kalb', 'an F Hoelderlin', 'an G Koerner', 'an S Crusius', 'an F Unger', 'an H Eichstaedt', 'an F Kirms', 'an C Schiller', 'an J Suevern', 'an G Goeschen', 'an A Iffland', 'an W Goethe ', 'an F Wilmans', 'an F Griesbach', 'an J Frankh', 'an L Lengefeld', 'an G Hufeland', 'an C Schimmelmann', 'an L Brachmann', 'an F Schelling', 'an J Goepferdt', 'an H Becker', 'an K Buettner', 'an F Cotta', 'an C Ridel', 'an W Reinwald', 'an J Unger', 'an W Goethe', 'an C Kalb', 'an J Mellish', 'an G Koerner', 'an C Reinhart', 'an L Seckendorff', 'an K Boettiger', 'an S Crusius', 'an F Unger', 'an G Voigt', 'an F Hoven', 'an J Stark', 'an F Rochlitz', 'an C Schiller', 'an G Goeschen', 'an A Iffland', 'an W Schlegel', 'an F Schelling', 'an C Wolzogen', 'an F Cotta', 'an M Wieland', 'an F Ochsenheimer', 'an F Schroeder', 'an J Herzfeld', 'an Goes Buchhandlung', 'an W Reinwald', 'an F Unzelmann', 'an W Goethe', 'an G Koerner', 'an S Mereau', 'an C Schuetz', 'an H Egloffstein', 'an S Crusius', 'an H Beck', 'an F Hoven', 'an F Kirms', 'an C Stein', 'an C Brannaschk', 'an C Schiller', 'an G Goeschen', 'an A Iffland', 'an Schwarze', 'an W Becker', 'an J Frankh', 'an F Haug', 'an G Hufeland', 'an L Brachmann', 'an C Voigt', 'an L Frankh', 'an J Goepferdt', 'an C Reinwald', 'an C Wolzogen', 'an F Cotta', 'an W Reinwald', 'an W Goethe', 'an C Kalb', 'an G Koerner', 'an G Mueller', 'an F Zelter', 'an C Reinhart', 'an W Humboldt', 'an A Imhoff', 'an K Boettiger', 'an S Crusius', 'an W Consilium', 'an F Hoven', 'an C Schiller', 'an A Kotzebue', 'an A Iffland', 'an H Paulus', 'an F Niethammer', 'an W Becker', 'an Unbekannt', 'an L Brachmann', 'an L Frankh', 'an W Wolzogen', 'an C Reinwald', 'an F Cotta', 'an J Herzfeld', 'an A Genast', 'an F Unzelmann', 'an W Goethe', 'an G Koerner', 'an H Gleichen', 'an F Zelter', 'an K Boettiger', 'an K Brinkman', 'an S Crusius', 'an L Wittich', 'an F Hoven', 'an Carolsfeld', 'an F Rochlitz', 'an C Schiller', 'an G Goeschen', 'an A Iffland', 'an J Bertuch', 'an P Sachsen Weimar', 'an B Fischenich', 'an W C Reinwald', 'an H Weimar', 'an K Schwarz', 'an L Lengefeld', 'an Genast', 'an W Wolzogen', 'an K Beyme', 'an F Cotta', 'an J Herzfeld', 'an C Hufeland', 'an W Goethe', 'an H Voss', 'an G Koerner', 'an C Reinhart', 'an W Humboldt', 'an K Gross', 'an S Crusius', 'an F Rochlitz', 'an G Goeschen', 'an A Iffland', 'an F Frommann', 'an H Paulus', 'an F Niethammer', 'an L Frankh', 'an F Cotta', 'an F Stein', 'an W Goethe', 'an G Koerner']\n",
      "--\n",
      "['Type', 'D', 'D', 'D', 'D', 'D', 'D', 'D', 'D', 'D', 'D', 'D', 'D', 'D', 'G', 'G', 'G', 'N', 'G', 'G', 'G', 'E', 'N', 'N', 'G', 'G', 'E', 'G', 'G', 'G', 'G', 'G', 'G', 'G', 'E', 'G', 'G', 'G', 'G', 'G', 'G', 'G', 'G', 'G', 'G', 'H', 'G', 'G', 'P', 'G', 'G', 'P', 'G', 'G', 'N', 'E', 'E', 'E', 'G', 'G', 'G', 'G', 'G', 'G', 'G', 'G', 'G', 'G', 'G', 'G', 'G', 'G', 'G', 'G', 'G', 'G', 'G', 'G', 'G', 'G', 'G', 'G', 'E', 'G', 'G', 'G', 'G', 'G', 'G', 'G', 'G', 'G', 'G', 'H', 'B', 'N', 'N', 'G', 'G', 'P', 'P', 'P', 'B', 'G', 'N', 'P', 'P', 'P', 'B', 'H', 'B', 'B', 'N', 'B', 'G', 'P', 'G', 'B', 'P', 'P', 'P', 'D', 'P', 'P', 'D', 'P', 'B', 'P', 'P', 'P', 'B', 'B', 'B', 'E', 'H', 'P', 'P', 'G', 'G', 'G', 'G', 'G', 'G', 'G', 'G', 'G', 'G', 'G', 'G', 'G', 'G', 'G', 'G', 'G', 'G', 'G', 'G', 'G', 'G', 'G', 'G', 'G', 'G', 'G', 'G', 'G', 'G', 'G', 'G', 'G', 'G', 'G', 'G', 'G', 'G', 'G', 'G', 'G', 'G', 'G', 'G', 'G', 'G', 'G', 'G', 'G', 'G', 'G', 'G', 'G', 'G', 'G', 'G', 'G', 'G', 'G', 'G', 'B', 'B', 'B', 'B', 'B', 'B', 'B', 'B', 'B', 'B', 'B', 'B', 'B', 'B', 'B', 'B', 'B', 'B', 'B', 'B', 'B', 'B', 'B', 'B', 'B', 'B', 'B', 'B', 'B', 'B', 'B', 'B', 'B', 'B', 'B', 'B', 'B', 'B', 'B', 'B', 'B', 'B', 'B', 'B', 'B', 'B', 'B', 'B', 'B', 'B', 'B', 'B', 'B', 'B', 'B', 'B', 'B', 'B', 'B', 'B', 'B', 'B', 'B', 'B', 'B', 'B', 'B', 'B', 'B', 'B', 'B', 'B', 'B', 'B', 'B', 'B', 'B', 'B', 'B', 'B', 'B', 'B', 'B', 'B', 'B', 'B', 'B', 'B', 'B', 'B', 'B', 'B', 'B', 'B', 'B', 'B', 'B', 'B', 'B', 'B', 'B', 'B', 'B', 'B', 'B', 'B', 'B', 'B', 'B', 'B', 'B', 'B', 'B', 'B', 'B', 'B', 'B', 'B', 'B', 'B', 'B', 'B', 'B', 'B', 'B', 'B', 'B', 'B', 'B', 'B', 'B', 'B', 'B', 'B', 'B', 'B', 'B', 'B', 'B', 'B', 'B', 'B', 'B', 'B', 'B', 'B', 'B', 'B', 'B', 'B', 'B', 'B', 'B', 'B', 'B', 'B', 'B', 'B', 'B', 'B', 'B', 'B', 'B', 'B', 'B', 'B', 'B', 'B', 'B', 'B', 'B', 'B', 'B', 'B', 'B', 'B', 'B', 'B', 'B', 'B', 'B', 'B', 'B', 'B', 'B', 'B', 'B', 'B', 'B', 'B', 'B', 'B', 'B', 'B', 'B', 'B', 'B', 'B', 'B', 'B', 'B', 'B', 'B', 'B', 'B', 'B', 'B', 'B', 'B', 'B', 'B', 'B', 'B', 'B', 'B', 'B', 'B', 'B', 'B', 'B', 'B', 'B', 'B', 'B', 'B', 'B', 'B', 'B', 'B', 'B', 'B', 'B', 'B', 'B', 'B', 'B', 'B', 'B', 'B', 'B', 'B', 'B', 'B', 'B', 'B', 'B', 'B', 'B', 'B', 'B', 'B', 'B', 'B', 'B', 'B', 'B', 'B', 'B', 'B', 'B', 'B', 'B', 'B', 'B', 'B', 'B', 'B', 'B', 'B', 'B', 'B', 'B', 'B', 'B', 'B', 'B', 'B', 'B', 'B', 'B', 'B', 'B', 'B', 'B', 'B', 'B', 'B', 'B', 'B', 'B', 'B', 'B', 'B', 'B', 'B', 'B', 'B', 'B', 'B', 'B', 'B', 'B', 'B', 'B', 'B', 'B', 'B', 'B', 'B', 'B', 'B', 'B', 'B', 'B', 'B', 'B', 'B', 'B', 'B', 'B', 'B', 'B', 'B', 'B', 'B', 'B', 'B', 'B', 'B', 'B', 'B', 'B', 'B', 'B', 'B', 'B', 'B', 'B', 'B', 'B', 'B', 'B', 'B', 'B', 'B', 'B', 'B', 'B', 'B', 'B', 'B', 'B', 'B', 'B', 'B', 'B', 'B', 'B', 'B', 'B', 'B', 'B', 'B', 'B', 'B', 'B', 'B', 'B', 'B', 'B', 'B', 'B', 'B', 'B', 'B', 'B', 'B', 'B', 'B', 'B', 'B', 'B', 'B', 'B', 'B', 'B', 'B', 'B', 'B', 'B', 'B', 'B', 'B', 'B', 'B', 'B', 'B', 'B', 'B', 'B', 'B', 'B', 'B', 'B', 'B', 'B', 'B', 'B', 'B', 'B', 'B', 'B', 'B', 'B', 'B', 'B', 'B', 'B', 'B', 'B', 'B', 'B', 'B', 'B', 'B', 'B', 'B', 'B', 'B', 'B', 'B', 'B', 'B', 'B', 'B', 'B', 'B', 'B', 'B', 'B', 'B', 'B', 'B', 'B', 'B', 'B', 'B', 'B', 'B', 'B', 'B', 'B', 'B', 'B', 'B', 'B', 'B', 'B', 'B', 'B', 'B', 'B', 'B', 'B', 'B', 'B', 'B']\n",
      "--\n",
      "['Year', '1805', '1790', '1803', '1804', '1801', '1781', '1783', '1788', '1784', '1800', '1782', '1799', '1804', '1776', '1787', '1785', '1791', '1795', '1795', '1777', '1789', '1803', '1803', '1795', '1781', '1786', '1803', '1781', '1788', '1796', '1781', '1782', '1795', '1782', '1791', '1800', '1797', '1797', '1797', '1797', '1797', '1797', '1797', '1797', '1790', '1797', '1786', '1795', '1796', '1803', '1797', '1795', '1782', '1801', '1792', '1789', '1785', '1802', '1795', '1795', '1800', '1795', '1804', '1797', '1795', '1798', '1800', '1797', '1798', '1804', '1797', '1801', '1803', '1803', '1797', '1798', '1798', '1795', '1803', '1803', '1782', '1799', '1800', '1795', '1795', '1795', '1795', '1795', '1795', '1795', '1781', '1782', '1790', '1781', '1792', '1792', '1782', '1805', '1784', '1790', '1780', '1781', '1785', '1788', '1788', '1790', '1802', '1781', '1788', '1780', '1781', '1800', '1780', '1782', '1786', '1786', '1772', '1793', '1791', '1793', '1805', '1794', '1792', '1805', '1795', '1793', '1792', '1794', '1795', '1778', '1778', '1780', '1792', '1792', '1789', '1793', '1795', '1802', '1801', '1795', '1798', '1795', '1795', '1795', '1795', '1803', '1795', '1795', '1795', '1795', '1795', '1795', '1802', '1788', '1798', '1799', '1802', '1797', '1795', '1797', '1802', '1797', '1795', '1795', '1789', '1795', '1797', '1803', '1797', '1795', '1797', '1802', '1798', '1797', '1802', '1795', '1797', '1800', '1795', '1797', '1797', '1797', '1797', '1795', '1795', '1796', '1795', '1795', '1801', '1798', '1795', '1797', '1797', '1795', '1802', '1797', '1782', '1782', '1782', '1782', '1782', '1782', '1782', '1782', '1782', '1782', '1782', '1783', '1783', '1783', '1783', '1783', '1783', '1784', '1784', '1784', '1784', '1784', '1784', '1784', '1784', '1784', '1784', '1784', '1784', '1784', '1784', '1784', '1784', '1784', '1784', '1784', '1785', '1785', '1785', '1785', '1785', '1785', '1785', '1785', '1785', '1785', '1785', '1786', '1786', '1786', '1786', '1786', '1786', '1786', '1786', '1786', '1786', '1786', '1787', '1787', '1787', '1787', '1787', '1787', '1787', '1787', '1787', '1787', '1787', '1787', '1787', '1787', '1787', '1787', '1788', '1788', '1788', '1788', '1788', '1788', '1788', '1788', '1788', '1788', '1788', '1788', '1788', '1788', '1788', '1788', '1788', '1789', '1789', '1789', '1789', '1789', '1789', '1789', '1789', '1789', '1789', '1789', '1789', '1789', '1789', '1789', '1789', '1789', '1790', '1790', '1790', '1790', '1790', '1790', '1790', '1790', '1790', '1790', '1790', '1790', '1790', '1790', '1790', '1790', '1791', '1791', '1791', '1791', '1791', '1791', '1791', '1791', '1791', '1791', '1791', '1792', '1792', '1792', '1792', '1792', '1792', '1792', '1792', '1792', '1792', '1792', '1792', '1793', '1793', '1793', '1793', '1793', '1793', '1793', '1793', '1793', '1793', '1793', '1793', '1793', '1793', '1793', '1793', '1793', '1793', '1794', '1794', '1794', '1794', '1794', '1794', '1794', '1794', '1794', '1794', '1794', '1794', '1794', '1794', '1794', '1794', '1794', '1794', '1794', '1794', '1794', '1794', '1794', '1794', '1794', '1794', '1794', '1794', '1794', '1795', '1795', '1795', '1795', '1795', '1795', '1795', '1795', '1795', '1795', '1795', '1795', '1795', '1795', '1795', '1795', '1795', '1795', '1795', '1795', '1795', '1795', '1795', '1795', '1795', '1795', '1795', '1795', '1795', '1795', '1795', '1795', '1795', '1796', '1796', '1796', '1796', '1796', '1796', '1796', '1796', '1796', '1796', '1796', '1796', '1796', '1796', '1796', '1796', '1796', '1796', '1796', '1796', '1796', '1796', '1796', '1796', '1796', '1796', '1797', '1797', '1797', '1797', '1797', '1797', '1797', '1797', '1797', '1797', '1797', '1797', '1797', '1797', '1797', '1797', '1797', '1797', '1797', '1797', '1797', '1797', '1797', '1798', '1798', '1798', '1798', '1798', '1798', '1798', '1798', '1798', '1798', '1798', '1798', '1798', '1798', '1798', '1798', '1799', '1799', '1799', '1799', '1799', '1799', '1799', '1799', '1799', '1799', '1799', '1799', '1799', '1799', '1799', '1799', '1799', '1799', '1799', '1799', '1799', '1799', '1799', '1799', '1799', '1800', '1800', '1800', '1800', '1800', '1800', '1800', '1800', '1800', '1800', '1800', '1800', '1800', '1800', '1800', '1800', '1800', '1800', '1800', '1800', '1800', '1800', '1800', '1800', '1800', '1800', '1800', '1800', '1801', '1801', '1801', '1801', '1801', '1801', '1801', '1801', '1801', '1801', '1801', '1801', '1801', '1801', '1801', '1801', '1801', '1801', '1801', '1801', '1801', '1801', '1801', '1801', '1801', '1802', '1802', '1802', '1802', '1802', '1802', '1802', '1802', '1802', '1802', '1802', '1802', '1802', '1802', '1802', '1802', '1802', '1802', '1802', '1802', '1802', '1802', '1802', '1802', '1802', '1802', '1802', '1802', '1802', '1803', '1803', '1803', '1803', '1803', '1803', '1803', '1803', '1803', '1803', '1803', '1803', '1803', '1803', '1803', '1803', '1803', '1803', '1803', '1803', '1803', '1803', '1803', '1803', '1803', '1803', '1804', '1804', '1804', '1804', '1804', '1804', '1804', '1804', '1804', '1804', '1804', '1804', '1804', '1804', '1804', '1804', '1804', '1804', '1804', '1804', '1804', '1804', '1804', '1804', '1804', '1804', '1804', '1805', '1805', '1805', '1805', '1805', '1805', '1805', '1805', '1805', '1805', '1805', '1805', '1805', '1805', '1805']\n"
     ]
    }
   ],
   "source": [
    "print(s[0])\n",
    "print('--')\n",
    "print(s[1])\n",
    "print('--')\n",
    "print(s[2])\n",
    "print('--')\n",
    "print(s[3])"
   ]
  },
  {
   "cell_type": "code",
   "execution_count": 5,
   "metadata": {
    "collapsed": false
   },
   "outputs": [
    {
     "name": "stdout",
     "output_type": "stream",
     "text": [
      "<_io.TextIOWrapper name='./data/data.json' mode='r' encoding='UTF-8'>\n",
      "13688620\n",
      "<class 'str'>\n"
     ]
    }
   ],
   "source": [
    "###########################################################\n",
    "#\n",
    "#\n",
    "#\n",
    "#      how many lines are in the data.json file ???\n",
    "#\n",
    "#\n",
    "#\n",
    "###########################################################\n",
    "\n",
    "import json\n",
    "\n",
    "with open('./data/data.json', 'r') as data:\n",
    "    print(data)\n",
    "    d = data.read()\n",
    "    d = d[1:-1]\n",
    "    d = json.dumps(d, indent=4, sort_keys=True, ensure_ascii=False)\n",
    "    d = d[1:-1]\n",
    "    #d = dict(d)\n",
    "    print(len(d))\n",
    "    print(type(d))\n",
    "    \n"
   ]
  },
  {
   "cell_type": "code",
   "execution_count": null,
   "metadata": {
    "collapsed": true
   },
   "outputs": [],
   "source": []
  }
 ],
 "metadata": {
  "anaconda-cloud": {},
  "kernelspec": {
   "display_name": "Python [default]",
   "language": "python",
   "name": "python3"
  },
  "language_info": {
   "codemirror_mode": {
    "name": "ipython",
    "version": 3
   },
   "file_extension": ".py",
   "mimetype": "text/x-python",
   "name": "python",
   "nbconvert_exporter": "python",
   "pygments_lexer": "ipython3",
   "version": "3.5.2"
  }
 },
 "nbformat": 4,
 "nbformat_minor": 2
}
