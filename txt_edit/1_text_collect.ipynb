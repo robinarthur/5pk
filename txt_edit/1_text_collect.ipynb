{
 "cells": [
  {
   "cell_type": "markdown",
   "metadata": {},
   "source": [
    "# This Notebook holds the helper functions to save all the text into the json files ordered from year to year, \n",
    "# the json file contains a list of dicts, every dict is one book"
   ]
  },
  {
   "cell_type": "code",
   "execution_count": 11,
   "metadata": {},
   "outputs": [],
   "source": [
    "# some useful imports\n",
    "import pandas as pd\n",
    "import numpy as np\n",
    "import json\n",
    "import csv\n"
   ]
  },
  {
   "cell_type": "code",
   "execution_count": 12,
   "metadata": {},
   "outputs": [],
   "source": [
    "###############################################\n",
    "# \n",
    "# try the new database Design. DB is made of a CSV with the following format:\n",
    "# --------------------------------\n",
    "# | ID  | Bookname | Year | Type |\n",
    "# --------------------------------\n",
    "#\n",
    "# the Text is saved in a textfile. It has the same Filename like the id in the DB.\n",
    "# \n",
    "# After that all the statistics would be calculated and every calculation get an own\n",
    "# column in the table.\n",
    "#\n",
    "# So, the actual 2Do is:\n",
    "#\n",
    "# 1. Save all the books into a textfile\n",
    "# 2. fill the db with the names \n",
    "# 3. do the statistics - the easy ones thirst\n",
    "# 4. write the seaborn stuff\n",
    "# 5. create the reveal.js presentaion\n",
    "#\n",
    "#\n",
    "###############################################"
   ]
  },
  {
   "cell_type": "code",
   "execution_count": 14,
   "metadata": {},
   "outputs": [
    {
     "name": "stdout",
     "output_type": "stream",
     "text": [
      "<_io.TextIOWrapper name='./db/schiller.csv' mode='r' encoding='UTF-8'>\n"
     ]
    }
   ],
   "source": [
    "# http://stackabuse.com/reading-and-writing-json-to-a-file-in-python/\n",
    "# this site have in general the explanation for the json stuff\n",
    "\n",
    "# the json file here contains a list of dicts, every dict is one book\n",
    "\n",
    "# json.dump({'price': '€10'}, ensure_ascii=False)\n",
    "\n",
    "# function to fill our book json like\n",
    "def spider_the_book(number, style, year, name):\n",
    "    book = {}\n",
    "    #name = 'Demetrius'\n",
    "    #year = int(1805)\n",
    "\n",
    "    # open the textfile\n",
    "    file = open('./input/txt/' + number + '.txt', 'r')\n",
    "    text = file.read()\n",
    "    file.close()\n",
    "\n",
    "    book['number'] = number\n",
    "    book['name'] = name\n",
    "    book['year'] = year\n",
    "    book['style'] = style\n",
    "    book['text'] = text\n",
    "    \n",
    "    return book\n",
    "\n",
    "\n",
    "def save_to_json(data):\n",
    "    \"\"\" save the given data into a textfile\"\"\"\n",
    "    with open('./data/data.json', 'a') as outfile:\n",
    "        json.dump(data, outfile, sort_keys = True, ensure_ascii = False)\n",
    "\n",
    "def collect_the_infos_of_books():\n",
    "    \"\"\" open a given csv file, get all the columns and give back the data as a list\"\"\"\n",
    "    with open('./db/schiller.csv') as csvfile:\n",
    "        print(csvfile)\n",
    "        readCSV = csv.reader(csvfile, delimiter=',')\n",
    "        ids = []\n",
    "        names = []\n",
    "        styles = []\n",
    "        years = []\n",
    "        for row in readCSV:\n",
    "            i = row[0]\n",
    "            n = row[1]\n",
    "            s = row[2]\n",
    "            y = row[3]\n",
    "            \n",
    "            ids.append(i)\n",
    "            names.append(n)\n",
    "            styles.append(s)\n",
    "            years.append(y)\n",
    "            \n",
    "            schiller = [ids, names, styles, years]\n",
    "    \n",
    "            \"\"\"\n",
    "            # this is a little searchtool\n",
    "            whatnumber = input('What color do you wish to know the date of?:')\n",
    "            if len(whatnumber) == 1:\n",
    "                whatnumber = '000' + str(whatnumber)\n",
    "            if len(whatnumber) == 2:\n",
    "                whatnumber = '00' + str(whatnumber)\n",
    "            if len(whatnumber) == 3:\n",
    "                whatnumber = '0' + str(whatnumber)\n",
    "        \n",
    "            iddex = ids.index(whatnumber)\n",
    "            name = names[iddex]\n",
    "            print('The name of Book number',whatnumber,'is: ',name)\n",
    "        \n",
    "            \"\"\" \n",
    "    return schiller\n",
    "        \n",
    "\n",
    "data = []\n",
    "s = collect_the_infos_of_books()\n",
    "\n",
    "\n",
    "for werk in range(1, 111):\n",
    "    if werk not in [1000,1001]: # there are some txt files missing\n",
    "        if len(str(werk)) == 1:\n",
    "            number = '000' + str(werk)\n",
    "        if len(str(werk)) == 2:\n",
    "            number = '00' + str(werk)\n",
    "        if len(str(werk)) == 3:\n",
    "            number = '0' + str(werk)\n",
    "            \n",
    "            \n",
    "        name = s[1][werk]\n",
    "        style = s[2][werk]\n",
    "        year = s[3][werk]\n",
    "    \n",
    "        # spider all the information into a list\n",
    "        data.append(spider_the_book(number, style, year, name))    \n",
    "        \n",
    "        \n",
    "    else:\n",
    "        continue\n",
    "        \n",
    "\n",
    "\n",
    "    \n",
    "\n",
    "save_to_json(data)\n",
    "\n",
    "# i have to figure out how i can store the books human friendly\n",
    "# number 4 is missing and the rest\n",
    "\n",
    "        \n"
   ]
  },
  {
   "cell_type": "code",
   "execution_count": 15,
   "metadata": {},
   "outputs": [
    {
     "name": "stdout",
     "output_type": "stream",
     "text": [
      "['#', '1', '2', '3', '4', '5', '6', '7', '8', '9', '10', '11', '12', '13', '14', '15', '16', '17', '18', '19', '20', '21', '22', '23', '24', '25', '26', '27', '28', '29', '30', '31', '32', '33', '34', '35', '36', '37', '38', '39', '40', '41', '42', '43', '44', '45', '46', '47', '48', '49', '50', '51', '52', '53', '54', '55', '56', '57', '58', '59', '60', '61', '62', '63', '64', '65', '66', '67', '68', '69', '70', '71', '72', '73', '74', '75', '76', '77', '78', '79', '80', '81', '82', '83', '84', '85', '86', '87', '88', '89', '90', '91', '92', '93', '94', '95', '96', '97', '98', '99', '100', '101', '102', '103', '104', '105', '106', '107', '108', '109', '110', '111', '112', '113', '114', '115', '116', '117', '118', '119', '120', '121', '122', '123', '124', '125', '126', '127', '128', '129', '130']\n",
      "--\n",
      "['Name', 'Demetrius', 'Der versöhnte Menschenfeind', 'Die Braut von Messina', 'Die Huldigung der Künste', 'Die Jungfrau von Orleans', 'Die Räuber', 'Die Verschwörung des Fiesco zu Genua', 'Don Carlos', 'Kabale und Liebe', 'Maria Stuart', 'Semele', 'Wallenstein', 'Wilhelm Tell', 'Der Abend', 'Amalia', 'an die Freude', 'das Geheimnis der Reminiszemz', 'das Ideal und das Leben', 'das verschleierte Bild zu Sais', 'der Eroberer', 'der Geisterseher', 'der Neffe als Onkel', 'der Parasit', 'der Spaziergang', 'der Venuswagen', 'der Verbrecher aus verlorener Ehre', 'die deutsche Muse', 'die Entzückung an Laura', 'die Götter Griechenlands ersteFassung', 'die Ideale', 'die Journalisten und Minos', 'die Kindsmoerderin', 'die Teilung der Erde', 'eine grossmutige Handlung', 'eine Leichenphantasie', 'Hektors Abschied', 'an Emma', 'das Geheimnis', 'das Lied von der Glocke', 'der Gang nach dem Eisenhammer', 'der Handschuh', 'der Ring des Polykrates', 'der Taucher', 'die Kraniche des Ibykus', 'die Geschichte des 30jaehrigen Krieges', 'Ritter Toggenburg', 'Resignation', 'Phantasie an Laura', 'Klage der Ceres', 'Zenith und Nadir', 'Über epische und dramatische Dichtung', 'Sprüche des Konfuzius', 'Laura am Klavier', 'Turandot', 'Geschichten aus dem alten Pitaval', 'Spiel des Schicksals', 'Merkwürdiges Beispiel einer weiblichen Rache', 'an die Freunde', 'an die Proselytenmacher', 'an einen Weltverbesserer', 'an Goethe', 'Archimedes und der Schueler', 'Berglied', 'Breite und Tiefe', 'Columbus', 'Das Eleusische Fest', 'die Götter Griechenlands zweite Fassung', 'das Geschenk', 'das Glück', 'der Alpenjaeger', 'Das Mädchen aus der Fremde', 'Das Mädchen von Orleans', 'Das Siegesfest', 'Das Spiel des Lebens', 'Das weibliche Ideal', 'Die Begegnung', 'Des Mädchens Klage', 'Zeus zu Herkules', 'Der Graf von Habsburg', 'Der Jüngling am Bache', 'An den Frühling', 'An den Herausgeber der Propyläen', 'an einen Moralisten', 'An Minna', 'Das Glück und die Weisheit', 'Denkwuerdigkeiten aus dem Leben des Marschalls von Vieilleville', 'Der Flüchtling', 'Der Kampf', 'der Spaziergang unter den Linden', 'der Triumph der Liebe', 'die Blumen', 'die Freundschaft', 'Die Gesetzgebung des Lykurgus und Solon', 'die Größe der Welt', 'Elegie auf den Tod eines Jünglings', 'Gruppe aus dem Tartarus', 'In einer Bataille', 'an die Freude II', 'Die Schaubuehne als moralische Anstalt betrachtet', 'Die Sendung Moses', 'Über den Zusammenhang der thierischen Natur des Menschen mit seiner geistigen', 'Elysium', 'Die unüberwindliche Flotte', 'Iphigenie in Aulis', 'über Egmont', 'Etwas über die erste Menschengesellschaft nach dem Leitfaden der mosaischen Urkunde', 'Gedanken über den Gebrauch des gemeinen und niedrigen in der Kunst', 'Geschichte der Unruhen in Frankreich welche der Regierungen Heinrichs IV vorangingen', 'Geschichte des Abfalls der Vereinigten Niederlande von der spanischen Regierung', 'Graf Eberhard der Greiner von Württemberg', 'Herzog von Alba bei einem Frühstück auf dem Schlosse zu Rudolstadt', 'Macbeth', '', '', '', '', '', '', '', '', '', '', '', '', '', '', '', '', '', '']\n",
      "--\n",
      "['Type', 'D', 'D', 'D', 'D', 'D', 'D', 'D', 'D', 'D', 'D', 'D', 'D', 'D', 'G', 'G', 'G', 'G', 'G', 'G', 'G', 'E', 'N', 'N', '', '', 'E', 'G', 'G', 'G', '', 'G', 'G', '', 'E', '', 'G', 'G', 'G', 'G', 'G', 'G', 'G', 'G', 'G', 'H', 'G', 'G', 'G', 'G', '', 'P', 'G', 'G', 'N', 'E', 'E', 'E', 'G', 'G', 'G', 'G', 'G', 'G', 'G', 'G', 'G', 'G', 'G', 'G', 'G', 'G', 'G', 'G', 'G', 'G', 'G', 'G', 'G', 'G', 'G', 'G', 'E', 'E', '', '', '', '', '', 'E', '', '', '', '', '', '', '', '', '', 'P', 'H', 'P', 'G', '', 'N', 'P', 'H', 'P', 'H', 'H', '', 'H', 'N', '', '', '', '', '', '', '', '', '', '', '', '', '', '', '', '', '', '']\n",
      "--\n",
      "['Year', '1805', '1790', '1803', '1804', '1801', '1781', '1783', '1788', '1784', '1800', '1782', '1799', '1804', '1776', '1787', '1785', '', '1795', '1795', '1777', '1789', '', '', '', '', '1786', '', '', '1788', '', '1781', '', '', '', '', '', '1797', '1797', '1797', '1797', '1797', '1797', '1797', '1797', '1790', '1797', '1786', '', '1796', '', '1797', '', '', '1801', '1792', '1789', '1785', '1802', '', '', '', '', '1804', '', '', '', '1800', '', '', '1804', '', '', '1802', '', '', '1798', '1798', '', '1803', '1803', '1782', '1799', '', '', '', '', '', '', '', '', '', '', '', '', '', '', '1782', '1805', '1784', '1790', '1780', '', '1785', '1788', '1788', '1790', '1802', '', '', '', '', '', '', '', '', '', '', '', '', '', '', '', '', '', '', '', '', '', '', '']\n"
     ]
    }
   ],
   "source": [
    "print(s[0])\n",
    "print('--')\n",
    "print(s[1])\n",
    "print('--')\n",
    "print(s[2])\n",
    "print('--')\n",
    "print(s[3])"
   ]
  },
  {
   "cell_type": "code",
   "execution_count": 16,
   "metadata": {},
   "outputs": [
    {
     "name": "stdout",
     "output_type": "stream",
     "text": [
      "<_io.TextIOWrapper name='./data/data.json' mode='r' encoding='UTF-8'>\n",
      "6972003\n",
      "<class 'str'>\n"
     ]
    }
   ],
   "source": [
    "###########################################################\n",
    "#\n",
    "#\n",
    "#\n",
    "#      how many lines are in the data.json file ???\n",
    "#\n",
    "#\n",
    "#\n",
    "###########################################################\n",
    "\n",
    "import json\n",
    "\n",
    "with open('./data/data.json', 'r') as data:\n",
    "    print(data)\n",
    "    d = data.read()\n",
    "    d = d[1:-1]\n",
    "    d = json.dumps(d, indent=4, sort_keys=True, ensure_ascii=False)\n",
    "    d = d[1:-1]\n",
    "    #d = dict(d)\n",
    "    print(len(d))\n",
    "    print(type(d))\n",
    "    \n"
   ]
  },
  {
   "cell_type": "code",
   "execution_count": null,
   "metadata": {},
   "outputs": [],
   "source": []
  }
 ],
 "metadata": {
  "kernelspec": {
   "display_name": "Python 3",
   "language": "python",
   "name": "python3"
  },
  "language_info": {
   "codemirror_mode": {
    "name": "ipython",
    "version": 3
   },
   "file_extension": ".py",
   "mimetype": "text/x-python",
   "name": "python",
   "nbconvert_exporter": "python",
   "pygments_lexer": "ipython3",
   "version": "3.6.8"
  }
 },
 "nbformat": 4,
 "nbformat_minor": 2
}
