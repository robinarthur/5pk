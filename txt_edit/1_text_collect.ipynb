{
 "cells": [
  {
   "cell_type": "markdown",
   "metadata": {},
   "source": [
    "# This Notebook holds the helper functions to save all the text into the json files ordered from year to year, \n",
    "# the json file contains a list of dicts, every dict is one book"
   ]
  },
  {
   "cell_type": "code",
   "execution_count": 1,
   "metadata": {},
   "outputs": [],
   "source": [
    "# some useful imports\n",
    "import pandas as pd\n",
    "import numpy as np\n",
    "import json\n",
    "import csv\n"
   ]
  },
  {
   "cell_type": "code",
   "execution_count": 2,
   "metadata": {},
   "outputs": [],
   "source": [
    "###############################################\n",
    "# \n",
    "# try the new database Design. DB is made of a CSV with the following format:\n",
    "# --------------------------------\n",
    "# | ID  | Bookname | Year | Type |\n",
    "# --------------------------------\n",
    "#\n",
    "# the Text is saved in a textfile. It has the same Filename like the id in the DB.\n",
    "# \n",
    "# After that all the statistics would be calculated and every calculation get an own\n",
    "# column in the table.\n",
    "#\n",
    "# So, the actual 2Do is:\n",
    "#\n",
    "# 1. Save all the books into a textfile\n",
    "# 2. fill the db with the names \n",
    "# 3. do the statistics - the easy ones thirst\n",
    "# 4. write the seaborn stuff\n",
    "# 5. create the reveal.js presentaion\n",
    "#\n",
    "#\n",
    "###############################################"
   ]
  },
  {
   "cell_type": "code",
   "execution_count": 18,
   "metadata": {},
   "outputs": [
    {
     "name": "stdout",
     "output_type": "stream",
     "text": [
      "<_io.TextIOWrapper name='./db/schiller.csv' mode='r' encoding='UTF-8'>\n"
     ]
    }
   ],
   "source": [
    "# http://stackabuse.com/reading-and-writing-json-to-a-file-in-python/\n",
    "# this site have in general the explanation for the json stuff\n",
    "\n",
    "# the json file here contains a list of dicts, every dict is one book\n",
    "\n",
    "# json.dump({'price': '€10'}, ensure_ascii=False)\n",
    "\n",
    "# function to fill our book json like\n",
    "def spider_the_book(number, style, year, name):\n",
    "    book = {}\n",
    "    #name = 'Demetrius'\n",
    "    #year = int(1805)\n",
    "\n",
    "    # open the textfile\n",
    "    file = open('./input/txt/' + number + '.txt', 'r')\n",
    "    text = file.read()\n",
    "    file.close()\n",
    "\n",
    "    book['number'] = number\n",
    "    book['name'] = name\n",
    "    book['year'] = year\n",
    "    book['style'] = style\n",
    "    book['text'] = text\n",
    "    \n",
    "    return book\n",
    "\n",
    "\n",
    "def save_to_json(data):\n",
    "    \"\"\" save the given data into a textfile\"\"\"\n",
    "    with open('./data/data.json', 'a') as outfile:\n",
    "        json.dump(data, outfile, sort_keys = True, ensure_ascii = False)\n",
    "\n",
    "def collect_the_infos_of_books():\n",
    "    \"\"\" open a given csv file, get all the columns and give back the data as a list\"\"\"\n",
    "    with open('./db/schiller.csv') as csvfile:\n",
    "        print(csvfile)\n",
    "        readCSV = csv.reader(csvfile, delimiter=',')\n",
    "        ids = []\n",
    "        names = []\n",
    "        styles = []\n",
    "        years = []\n",
    "        for row in readCSV:\n",
    "            i = row[0]\n",
    "            n = row[1]\n",
    "            s = row[2]\n",
    "            y = row[3]\n",
    "            \n",
    "            ids.append(i)\n",
    "            names.append(n)\n",
    "            styles.append(s)\n",
    "            years.append(y)\n",
    "            \n",
    "            schiller = [ids, names, styles, years]\n",
    "    \n",
    "            \"\"\"\n",
    "            # this is a little searchtool\n",
    "            whatnumber = input('What color do you wish to know the date of?:')\n",
    "            if len(whatnumber) == 1:\n",
    "                whatnumber = '000' + str(whatnumber)\n",
    "            if len(whatnumber) == 2:\n",
    "                whatnumber = '00' + str(whatnumber)\n",
    "            if len(whatnumber) == 3:\n",
    "                whatnumber = '0' + str(whatnumber)\n",
    "        \n",
    "            iddex = ids.index(whatnumber)\n",
    "            name = names[iddex]\n",
    "            print('The name of Book number',whatnumber,'is: ',name)\n",
    "        \n",
    "            \"\"\" \n",
    "    return schiller\n",
    "        \n",
    "\n",
    "data = []\n",
    "s = collect_the_infos_of_books()\n",
    "\n",
    "\n",
    "for werk in range(1, 81):\n",
    "    if werk not in [1000,1001]: # there are some txt files missing\n",
    "        if len(str(werk)) == 1:\n",
    "            number = '000' + str(werk)\n",
    "        if len(str(werk)) == 2:\n",
    "            number = '00' + str(werk)\n",
    "        if len(str(werk)) == 3:\n",
    "            number = '0' + str(werk)\n",
    "            \n",
    "            \n",
    "        name = s[1][werk]\n",
    "        style = s[2][werk]\n",
    "        year = s[3][werk]\n",
    "    \n",
    "        # spider all the information into a list\n",
    "        data.append(spider_the_book(number, style, year, name))    \n",
    "        \n",
    "        \n",
    "    else:\n",
    "        continue\n",
    "        \n",
    "\n",
    "\n",
    "    \n",
    "\n",
    "save_to_json(data)\n",
    "\n",
    "# i have to figure out how i can store the books human friendly\n",
    "# number 4 is missing and the rest\n",
    "\n",
    "        \n"
   ]
  },
  {
   "cell_type": "code",
   "execution_count": 19,
   "metadata": {},
   "outputs": [
    {
     "name": "stdout",
     "output_type": "stream",
     "text": [
      "['#', '0001', '0002', '0003', '0004', '0005', '0006', '0007', '0008', '0009', '0010', '0011', '0012', '0013', '0014', '0015', '0016', '0017', '0018', '0019', '0020', '0021', '0022', '0023', '0024', '0025', '0026', '0027', '0028', '0029', '0030', '0031', '0032', '0033', '0034', '0035', '0036', '0037', '0038', '0039', '0040', '0041', '0042', '0043', '0044', '0045', '0046', '0047', '0048', '0049', '0050', '0051', '0052', '0053', '0054', '0055', '0056', '0057', '0058', '0059', '0060', '0061', '0062', '0063', '0064', '0065', '0066', '0067', '0068', '0069', '0070', '0071', '0072', '0073', '0074', '0075', '0076', '0077', '0078', '0079', '0080', '0081', '0082', '0083', '0084', '0085', '0086', '0087', '0088', '0089', '0090', '0091', '0092', '0093', '0094', '0095', '0096', '0097', '0098', '0099', '0100']\n",
      "--\n",
      "['Name', 'Demetrius', 'Der versöhnte Menschenfeind', 'Die Braut von Messina', 'Die Huldigung der Künste', 'Die Jungfrau von Orleans', 'Die Räuber', 'Die Verschwörung des Fiesco zu Genua', 'Don Carlos', 'Kabale und Liebe', 'Maria Stuart', 'Semele', 'Wallenstein', 'Wilhelm Tell', 'Der Abend', 'Amalia', 'an die Freude', 'das Geheimnis der Reminiszemz', 'das Ideal und das Leben', 'das verschleierte Bild zu Sais', 'der Eroberer', 'der Geisterseher', 'der Neffe als Onkel', 'der Parasit', 'der Spaziergang', 'der Venuswagen', 'der Verbrecher aus verlorener Ehre', 'die deutsche Muse', 'die Entzückung an Laura', 'die Götter Griechenlands ersteFassung', 'die Ideale', 'die Journalisten und Minos', 'die Kindsmoerderin', 'die Teilung der Erde', 'eine grossmutige Handlung', 'eine Leichenphantasie', 'Hektors Abschied', 'an Emma', 'das Geheimnis', 'das Lied von der Glocke', 'der Gang nach dem Eisenhammer', 'der Handschuh', 'der Ring des Polykrates', 'der Taucher', 'die Kraniche des Ibykus', 'die Geschichte des 30jaehrigen Krieges', 'Ritter Toggenburg', 'Resignation', 'Phantasie an Laura', 'Klage der Ceres', 'Zenith und Nadir', 'Über epische und dramatische Dichtung', 'Sprüche des Konfuzius', 'Laura am Klavier', 'Turandot', 'Geschichten aus dem alten Pitaval', 'Spiel des Schicksals', 'Merkwürdiges Beispiel einer weiblichen Rache', 'an die Freunde', 'an die Proselytenmacher', 'an einen Weltverbesserer', 'an Goethe', 'Archimedes und der Schueler', 'Berglied', 'Breite und Tiefe', 'Columbus', 'Das Eleusische Fest', 'die Götter Griechenlands zweite Fassung', 'das Geschenk', 'das Glück', 'der Alpenjaeger', 'Das Mädchen aus der Fremde', 'Das Mädchen von Orleans', 'Das Siegesfest', 'Das Spiel des Lebens', 'Das weibliche Ideal', 'Die Begegnung', 'Des Mädchens Klage', 'Zeus zu Herkules', 'Der Graf von Habsburg', 'Der Jüngling am Bache', '', '', '', '', '', '', '', '', '', '', '', '', '', '', '', '', '', '', '', '']\n",
      "--\n",
      "['Type', 'D', 'D', 'D', 'L', 'D', 'D', 'D', 'D', 'D', 'D', 'L', 'D', 'D', 'L', 'L', 'L', 'L', 'L', 'L', 'L', 'E', 'U', 'U', '', '', 'E', 'L', 'L', 'L', '', 'L', 'L', '', 'E', '', 'L', 'L', 'L', 'L', 'L', 'L', 'L', 'L', 'L', 'H', 'L', 'L', 'L', 'L', '', 'P', 'L', 'L', 'D', 'E', 'E', 'E', 'L', 'L', 'L', 'L', 'L', 'L', 'L', 'L', 'L', 'L', 'L', 'L', 'L', 'L', 'L', 'L', 'L', 'L', 'L', 'L', 'L', 'L', 'L', '', '', '', '', '', '', '', '', '', '', '', '', '', '', '', '', '', '', '', '']\n",
      "--\n",
      "['Year', '1805', '1790', '1803', '1804', '1801', '1781', '1783', '1788', '1784', '1800', '1782', '1799', '1804', '1776', '1787', '1785', '', '1795', '1795', '', '1789', '', '', '', '', '1786', '', '', '1788', '', '1781', '', '', '', '', '', '1797', '1797', '1797', '1797', '1797', '1797', '1797', '1797', '1790', '1797', '1786', '', '1796', '', '1797', '', '', '1801', '1792', '1789', '1785', '1802', '', '', '', '', '1804', '', '', '', '1800', '', '', '1804', '', '', '1802', '', '', '1798', '1798', '', '1803', '1803', '', '', '', '', '', '', '', '', '', '', '', '', '', '', '', '', '', '', '', '']\n"
     ]
    }
   ],
   "source": [
    "print(s[0])\n",
    "print('--')\n",
    "print(s[1])\n",
    "print('--')\n",
    "print(s[2])\n",
    "print('--')\n",
    "print(s[3])"
   ]
  },
  {
   "cell_type": "code",
   "execution_count": 20,
   "metadata": {},
   "outputs": [
    {
     "name": "stdout",
     "output_type": "stream",
     "text": [
      "<_io.TextIOWrapper name='./data/data.json' mode='r' encoding='UTF-8'>\n",
      "5389379\n",
      "<class 'str'>\n"
     ]
    }
   ],
   "source": [
    "###########################################################\n",
    "#\n",
    "#\n",
    "#\n",
    "#      how many lines are in the data.json file ???\n",
    "#\n",
    "#\n",
    "#\n",
    "###########################################################\n",
    "\n",
    "import json\n",
    "\n",
    "with open('./data/data.json', 'r') as data:\n",
    "    print(data)\n",
    "    d = data.read()\n",
    "    d = d[1:-1]\n",
    "    d = json.dumps(d, indent=4, sort_keys=True, ensure_ascii=False)\n",
    "    d = d[1:-1]\n",
    "    #d = dict(d)\n",
    "    print(len(d))\n",
    "    print(type(d))\n",
    "    \n"
   ]
  },
  {
   "cell_type": "code",
   "execution_count": null,
   "metadata": {},
   "outputs": [],
   "source": []
  }
 ],
 "metadata": {
  "kernelspec": {
   "display_name": "Python 3",
   "language": "python",
   "name": "python3"
  },
  "language_info": {
   "codemirror_mode": {
    "name": "ipython",
    "version": 3
   },
   "file_extension": ".py",
   "mimetype": "text/x-python",
   "name": "python",
   "nbconvert_exporter": "python",
   "pygments_lexer": "ipython3",
   "version": "3.6.4"
  }
 },
 "nbformat": 4,
 "nbformat_minor": 2
}
