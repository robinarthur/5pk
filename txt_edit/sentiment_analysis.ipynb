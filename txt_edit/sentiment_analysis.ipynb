{
 "cells": [
  {
   "cell_type": "markdown",
   "metadata": {},
   "source": [
    "- hierfür brauche ich den Wortschatz der Uni Leipzig bzw. SentiWS und Beispieltexte als Corpus\n",
    "- "
   ]
  },
  {
   "cell_type": "code",
   "execution_count": 2,
   "metadata": {
    "collapsed": true
   },
   "outputs": [],
   "source": [
    "import nltk\n",
    "\n",
    "class Splitter(object):\n",
    "    \n",
    "    def __init__(self):\n",
    "        pass\n",
    "    \n",
    "    \n",
    "    def split(self, text):\n",
    "        \n",
    "        \"\"\"\n",
    "        \n",
    "        input format: a paragraph of text\n",
    "        \n",
    "        output format: a list of lists of words.\n",
    "        \n",
    "           e.g.: [['this', 'is', 'a', 'sentence'], ['this', 'is', 'another', 'one']]\n",
    "        \n",
    "        \"\"\"\n",
    "        \n",
    "        sentences = self.nltk_splitter.tokenize(text)\n",
    "        \n",
    "        tokenized_sentences = [self.nltk_tokenizer.tokenize(sent) for sent in sentence]\n",
    "        \n",
    "        return tokenized_sentences\n",
    "    \n",
    "    \n",
    "    \n",
    "\n",
    "class POSTagger(object):\n",
    "    \n",
    "    def __init__(self):\n",
    "        pass\n",
    "    \n",
    "    \n",
    "    def pos_tag(self, sentences):\n",
    "        \n",
    "        \"\"\"\n",
    "        input format: list of lists of words\n",
    "          e.g.: [['this', 'is', 'a', 'sentence'], ['this', 'is', 'another', 'one']]\n",
    "        \n",
    "        output format: list of lists of tagged tokens. Each tagged tokens has a\n",
    "        form, a lemma, and a list of tags\n",
    "        \n",
    "          e.g: [[('this', 'this', ['DT']), ('is', 'be', ['VB']), ('a', 'a', ['DT']),('sentence', 'sentence', ['NN'])],\n",
    "                 [('this', 'this', ['DT']), ('is', 'be', ['VB']), ('another', 'another', ['DT']),('one', 'one',\n",
    "                 ['CARD'])]]\n",
    "        \"\"\"\n",
    "        \n",
    "        \n",
    "        pos = [nltk.pos_tag(sentence) for sentence in sentences]\n",
    "        \n",
    "        #adapt format\n",
    "        \n",
    "        pos = [[(word, word, [postag]) for (word, postag) in sentence] for sentence in pos]\n",
    "        \n",
    "        return pos\n",
    "    \n",
    "    \n",
    "\n",
    "class DictionaryTagger(object):\n",
    "    \n",
    "    def __init__(self):\n",
    "        pass\n",
    "\n",
    "    \n",
    "    "
   ]
  },
  {
   "cell_type": "code",
   "execution_count": null,
   "metadata": {
    "collapsed": true
   },
   "outputs": [],
   "source": []
  }
 ],
 "metadata": {
  "kernelspec": {
   "display_name": "Python 3",
   "language": "python",
   "name": "python3"
  },
  "language_info": {
   "codemirror_mode": {
    "name": "ipython",
    "version": 2
   },
   "file_extension": ".py",
   "mimetype": "text/x-python",
   "name": "python",
   "nbconvert_exporter": "python",
   "pygments_lexer": "ipython2",
   "version": "2.7.12"
  }
 },
 "nbformat": 4,
 "nbformat_minor": 2
}
