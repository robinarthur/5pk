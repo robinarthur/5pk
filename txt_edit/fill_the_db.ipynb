{
 "cells": [
  {
   "cell_type": "code",
   "execution_count": 5,
   "metadata": {},
   "outputs": [
    {
     "name": "stdout",
     "output_type": "stream",
     "text": [
      "index ind_Authors_Author_ID already exists\n",
      "index ind_Sentences_Sentence_ID already exists\n"
     ]
    },
    {
     "data": {
      "text/plain": [
       "'\\n\\nBEGIN TRANSACTION;\\nCREATE TABLE IF NOT EXISTS `tbl_Buecher` (\\n\\t`ID`\\tINTEGER NOT NULL UNIQUE,\\n\\t`Name`\\tTEXT NOT NULL UNIQUE,\\n\\t`Author`\\tINTEGER NOT NULL UNIQUE,\\n\\t`Erscheinungsjahr`\\tINTEGER NOT NULL UNIQUE,\\n\\tPRIMARY KEY(`ID`)\\n);\\nCREATE TABLE IF NOT EXISTS `tbl_Autor` (\\n\\t`ID`\\tINTEGER NOT NULL UNIQUE,\\n\\t`Name`\\tTEXT NOT NULL UNIQUE,\\n\\tPRIMARY KEY(`ID`)\\n);\\nCOMMIT;\\n\\n'"
      ]
     },
     "execution_count": 5,
     "metadata": {},
     "output_type": "execute_result"
    }
   ],
   "source": [
    "import sqlite3\n",
    "import pandas as pd\n",
    "from sqlite3 import Error\n",
    "\n",
    "\n",
    "\n",
    "def create_connection(database):\n",
    "    \"\"\" create a database connection to the SQLite database\n",
    "        specified by db_file\n",
    "    :param db_file: database file\n",
    "    :return: Connection object or None\n",
    "    \"\"\"\n",
    "    try:\n",
    "        conn = sqlite3.connect(database)\n",
    "        return conn\n",
    "    except Error as e:\n",
    "        print(e)\n",
    " \n",
    "    return None        \n",
    "\n",
    "def create_table(conn, create_table_sql):\n",
    "    \"\"\" create a table from the create_table_sql statement\n",
    "        param conn: Connection object\n",
    "        param create_table_sql: a CREATE TABLE statement\n",
    "        return:\"\"\"\n",
    "    try:\n",
    "        c = conn.cursor()\n",
    "        c.execute(create_table_sql)\n",
    "    except Error as e:\n",
    "            print(e)\n",
    "\n",
    "\n",
    "\n",
    "def create_the_book_db():\n",
    "    \n",
    "    database = './db/5pk.db'\n",
    "    \n",
    "    sql_create_tbl_Authors = \"\"\" CREATE TABLE IF NOT EXISTS tbl_Authors (\n",
    "                                    Author_ID integer Primary Key,\n",
    "                                    Author_NAME text NOT NULL);\"\"\"\n",
    "    \n",
    "    sql_create_tbl_Books = \"\"\" CREATE TABLE IF NOT EXISTS tbl_Books (\n",
    "                                    Book_ID integer Primary Key,\n",
    "                                    Book_NAME text NOT NULL,\n",
    "                                    Author_ID integer NOT NULL,\n",
    "                                    Year integer NOT NULL,\n",
    "                                    FOREIGN KEY (Author_ID) REFERENCES\n",
    "                                    tbl_Authors(Author_ID));\"\"\"\n",
    "    \n",
    "    sql_create_tbl_Sentences = \"\"\" CREATE TABLE IF NOT EXISTS tbl_Sentences (\n",
    "                                    Sentence_ID integer Primary Key,\n",
    "                                    Book_ID integer NOT NULL,\n",
    "                                    Sentence TEXT NOT NULL,\n",
    "                                    FOREIGN KEY (Book_ID) REFERENCES\n",
    "                                    tbl_Books(Book_ID));\"\"\"\n",
    "\n",
    "    \n",
    "    sql_create_ind_Authors_Author_ID = \"\"\" CREATE INDEX ind_Authors_Author_ID\n",
    "                                            ON tbl_Authors(Author_ID);\"\"\"\n",
    "    \n",
    "    sql_create_ind_Books_Book_ID = \"\"\" CREATE INDEX ind_Books_Book_ID\n",
    "                                        ON tbl_Books(Book_ID);\"\"\"\n",
    "    \n",
    "    sql_create_ind_Sentences_Sentence_ID = \"\"\" CREATE INDEX ind_Sentences_Sentence_ID \n",
    "                                                ON tbl_Sentences(Sentence_ID);\"\"\"\n",
    "    \n",
    "    # Connecting to the database file\n",
    "    conn = create_connection('./db/5pk.db')\n",
    "\n",
    "    if conn is not None:\n",
    "        #create Authors table\n",
    "        create_table(conn, sql_create_tbl_Authors)\n",
    "        #create Books table\n",
    "        create_table(conn, sql_create_tbl_Books)\n",
    "        #create Sentences\n",
    "        create_table(conn, sql_create_tbl_Sentences)\n",
    "        \n",
    "        #create the Indexes\n",
    "        create_table(conn, sql_create_ind_Authors_Author_ID)\n",
    "        create_table(conn, sql_create_ind_Books_Book_ID)\n",
    "        create_table(conn, sql_create_ind_Sentences_Sentence_ID)\n",
    "    else:\n",
    "        print(\"ERROR! cannot create the database connection.\")\n",
    "\n",
    "\n",
    "        \n",
    "create_the_book_db()\n",
    "\n",
    "\"\"\"\n",
    "\n",
    "BEGIN TRANSACTION;\n",
    "CREATE TABLE IF NOT EXISTS `tbl_Buecher` (\n",
    "\t`ID`\tINTEGER NOT NULL UNIQUE,\n",
    "\t`Name`\tTEXT NOT NULL UNIQUE,\n",
    "\t`Author`\tINTEGER NOT NULL UNIQUE,\n",
    "\t`Erscheinungsjahr`\tINTEGER NOT NULL UNIQUE,\n",
    "\tPRIMARY KEY(`ID`)\n",
    ");\n",
    "CREATE TABLE IF NOT EXISTS `tbl_Autor` (\n",
    "\t`ID`\tINTEGER NOT NULL UNIQUE,\n",
    "\t`Name`\tTEXT NOT NULL UNIQUE,\n",
    "\tPRIMARY KEY(`ID`)\n",
    ");\n",
    "COMMIT;\n",
    "\n",
    "\"\"\"\n"
   ]
  },
  {
   "cell_type": "code",
   "execution_count": null,
   "metadata": {
    "collapsed": true
   },
   "outputs": [],
   "source": []
  },
  {
   "cell_type": "code",
   "execution_count": null,
   "metadata": {
    "collapsed": true
   },
   "outputs": [],
   "source": []
  }
 ],
 "metadata": {
  "kernelspec": {
   "display_name": "Python 3",
   "language": "python",
   "name": "python3"
  },
  "language_info": {
   "codemirror_mode": {
    "name": "ipython",
    "version": 2
   },
   "file_extension": ".py",
   "mimetype": "text/x-python",
   "name": "python",
   "nbconvert_exporter": "python",
   "pygments_lexer": "ipython2",
   "version": "2.7.12"
  }
 },
 "nbformat": 4,
 "nbformat_minor": 2
}
