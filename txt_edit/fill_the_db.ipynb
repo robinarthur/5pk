{
 "cells": [
  {
   "cell_type": "code",
   "execution_count": 10,
   "metadata": {},
   "outputs": [
    {
     "data": {
      "text/plain": [
       "'\\n\\nBEGIN TRANSACTION;\\nCREATE TABLE IF NOT EXISTS `tbl_Buecher` (\\n\\t`ID`\\tINTEGER NOT NULL UNIQUE,\\n\\t`Name`\\tTEXT NOT NULL UNIQUE,\\n\\t`Author`\\tINTEGER NOT NULL UNIQUE,\\n\\t`Erscheinungsjahr`\\tINTEGER NOT NULL UNIQUE,\\n\\tPRIMARY KEY(`ID`)\\n);\\nCREATE TABLE IF NOT EXISTS `tbl_Autor` (\\n\\t`ID`\\tINTEGER NOT NULL UNIQUE,\\n\\t`Name`\\tTEXT NOT NULL UNIQUE,\\n\\tPRIMARY KEY(`ID`)\\n);\\nCOMMIT;\\n\\n'"
      ]
     },
     "execution_count": 10,
     "metadata": {},
     "output_type": "execute_result"
    }
   ],
   "source": [
    "import sqlite3\n",
    "import pandas as pd\n",
    "from sqlite3 import Error\n",
    "\n",
    "\n",
    "\n",
    "def make_the_book_db():\n",
    "    \n",
    "    # Connecting to the database file\n",
    "    conn = sqlite3.connect('./db/5pk.db')\n",
    "    c = conn.cursor()\n",
    "    \n",
    "    # Creating a new SQLite table\n",
    "    c.execute('CREATE TABLE IF NOT EXISTS ')\n",
    "\n",
    "def create_connection(db_file):\n",
    "    \"\"\" create a database connection to the SQLite database\n",
    "        specified by db_file\n",
    "    :param db_file: database file\n",
    "    :return: Connection object or None\n",
    "    \"\"\"\n",
    "    try:\n",
    "        conn = sqlite3.connect(db_file)\n",
    "        return conn\n",
    "    except Error as e:\n",
    "        print(e)\n",
    " \n",
    "    return None        \n",
    "        \n",
    "        \n",
    "        \n",
    "\n",
    "#Create the table\n",
    "#c.execute('''CREATE TABLE books \n",
    "           # (author int, name text, book text)''')\n",
    "\n",
    "#insert a row of data\n",
    "#c.execute(\"INSERT INTO books VALUES (1, )\")\n",
    "\n",
    "\"\"\"\n",
    "\n",
    "BEGIN TRANSACTION;\n",
    "CREATE TABLE IF NOT EXISTS `tbl_Buecher` (\n",
    "\t`ID`\tINTEGER NOT NULL UNIQUE,\n",
    "\t`Name`\tTEXT NOT NULL UNIQUE,\n",
    "\t`Author`\tINTEGER NOT NULL UNIQUE,\n",
    "\t`Erscheinungsjahr`\tINTEGER NOT NULL UNIQUE,\n",
    "\tPRIMARY KEY(`ID`)\n",
    ");\n",
    "CREATE TABLE IF NOT EXISTS `tbl_Autor` (\n",
    "\t`ID`\tINTEGER NOT NULL UNIQUE,\n",
    "\t`Name`\tTEXT NOT NULL UNIQUE,\n",
    "\tPRIMARY KEY(`ID`)\n",
    ");\n",
    "COMMIT;\n",
    "\n",
    "\"\"\"\n"
   ]
  },
  {
   "cell_type": "code",
   "execution_count": null,
   "metadata": {
    "collapsed": true
   },
   "outputs": [],
   "source": []
  },
  {
   "cell_type": "code",
   "execution_count": null,
   "metadata": {
    "collapsed": true
   },
   "outputs": [],
   "source": []
  }
 ],
 "metadata": {
  "kernelspec": {
   "display_name": "Python 3",
   "language": "python",
   "name": "python3"
  },
  "language_info": {
   "codemirror_mode": {
    "name": "ipython",
    "version": 2
   },
   "file_extension": ".py",
   "mimetype": "text/x-python",
   "name": "python",
   "nbconvert_exporter": "python",
   "pygments_lexer": "ipython2",
   "version": "2.7.12"
  }
 },
 "nbformat": 4,
 "nbformat_minor": 2
}
