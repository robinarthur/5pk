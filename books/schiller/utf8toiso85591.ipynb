{
 "cells": [
  {
   "cell_type": "code",
   "execution_count": 6,
   "metadata": {
    "collapsed": true
   },
   "outputs": [],
   "source": [
    "txt = \"Friedrich SchillerSÃ¤mtliche Dramen: Kabale und Liebe + Die RÃ¤uber + Wilhelm Tell + Maria Stuart + Die Jungfrau von Orleans + Wallenstein + Don Karlos, Infant von Spanien und mehr(VollstÃ¤ndige Ausgaben)Die Braut von Messina oder die feindlichen BrÃ¼der + Die VerschwÃ¶rung des Fiesco zu Genua + Demetrius + Die Huldigung der KÃ¼nste + Der versÃ¶hnte Menschenfeind + Semele\""
   ]
  },
  {
   "cell_type": "code",
   "execution_count": 10,
   "metadata": {
    "collapsed": false
   },
   "outputs": [
    {
     "data": {
      "text/plain": [
       "str"
      ]
     },
     "execution_count": 10,
     "metadata": {},
     "output_type": "execute_result"
    }
   ],
   "source": [
    "type(txt)"
   ]
  },
  {
   "cell_type": "code",
   "execution_count": 8,
   "metadata": {
    "collapsed": false
   },
   "outputs": [
    {
     "ename": "AttributeError",
     "evalue": "'bytes' object has no attribute 'encode'",
     "output_type": "error",
     "traceback": [
      "\u001b[0;31m---------------------------------------------------------------------------\u001b[0m",
      "\u001b[0;31mAttributeError\u001b[0m                            Traceback (most recent call last)",
      "\u001b[0;32m<ipython-input-8-7635f2710f18>\u001b[0m in \u001b[0;36m<module>\u001b[0;34m()\u001b[0m\n\u001b[1;32m     21\u001b[0m \u001b[0munitxt\u001b[0m \u001b[0;34m=\u001b[0m \u001b[0mstr\u001b[0m\u001b[0;34m.\u001b[0m\u001b[0mencode\u001b[0m\u001b[0;34m(\u001b[0m\u001b[0mtxt\u001b[0m\u001b[0;34m)\u001b[0m\u001b[0;34m\u001b[0m\u001b[0m\n\u001b[1;32m     22\u001b[0m \u001b[0;34m\u001b[0m\u001b[0m\n\u001b[0;32m---> 23\u001b[0;31m \u001b[0minttxt\u001b[0m \u001b[0;34m=\u001b[0m \u001b[0mreplace_german_umlaute\u001b[0m\u001b[0;34m(\u001b[0m\u001b[0munitxt\u001b[0m\u001b[0;34m)\u001b[0m\u001b[0;34m\u001b[0m\u001b[0m\n\u001b[0m",
      "\u001b[0;32m<ipython-input-8-7635f2710f18>\u001b[0m in \u001b[0;36mreplace_german_umlaute\u001b[0;34m(unicode_string)\u001b[0m\n\u001b[1;32m     12\u001b[0m \u001b[0;32mdef\u001b[0m \u001b[0mreplace_german_umlaute\u001b[0m\u001b[0;34m(\u001b[0m\u001b[0municode_string\u001b[0m\u001b[0;34m)\u001b[0m\u001b[0;34m:\u001b[0m\u001b[0;34m\u001b[0m\u001b[0m\n\u001b[1;32m     13\u001b[0m \u001b[0;34m\u001b[0m\u001b[0m\n\u001b[0;32m---> 14\u001b[0;31m     \u001b[0mutf8_string\u001b[0m \u001b[0;34m=\u001b[0m \u001b[0municode_string\u001b[0m\u001b[0;34m.\u001b[0m\u001b[0mencode\u001b[0m\u001b[0;34m(\u001b[0m\u001b[0;34m'utf-8'\u001b[0m\u001b[0;34m)\u001b[0m\u001b[0;34m\u001b[0m\u001b[0m\n\u001b[0m\u001b[1;32m     15\u001b[0m \u001b[0;34m\u001b[0m\u001b[0m\n\u001b[1;32m     16\u001b[0m     \u001b[0;32mfor\u001b[0m \u001b[0mk\u001b[0m \u001b[0;32min\u001b[0m \u001b[0mumlaute_dict\u001b[0m\u001b[0;34m.\u001b[0m\u001b[0mkeys\u001b[0m\u001b[0;34m(\u001b[0m\u001b[0;34m)\u001b[0m\u001b[0;34m:\u001b[0m\u001b[0;34m\u001b[0m\u001b[0m\n",
      "\u001b[0;31mAttributeError\u001b[0m: 'bytes' object has no attribute 'encode'"
     ]
    }
   ],
   "source": [
    "umlaute_dict = {\n",
    "    '\\xc3\\xa4': 'ae',  # U+00E4\t   \\xc3\\xa4\n",
    "    '\\xc3\\xb6': 'oe',  # U+00F6\t   \\xc3\\xb6\n",
    "    '\\xc3\\xbc': 'ue',  # U+00FC\t   \\xc3\\xbc\n",
    "    '\\xc3\\x84': 'Ae',  # U+00C4\t   \\xc3\\x84\n",
    "    '\\xc3\\x96': 'Oe',  # U+00D6\t   \\xc3\\x96\n",
    "    '\\xc3\\x9c': 'Ue',  # U+00DC\t   \\xc3\\x9c\n",
    "    '\\xc3\\x9f': 'ss',  # U+00DF\t   \\xc3\\x9f\n",
    "}\n",
    "\n",
    "\n",
    "def replace_german_umlaute(unicode_string):\n",
    "\n",
    "    utf8_string = unicode_string.encode('utf-8')\n",
    "\n",
    "    for k in umlaute_dict.keys():\n",
    "        utf8_string = utf8_string.replace(k, umlaute_dict[k])\n",
    "\n",
    "    return utf8_string.decode()\n",
    "\n",
    "unitxt = str.encode(txt)\n",
    "\n",
    "inttxt = replace_german_umlaute(unitxt)"
   ]
  },
  {
   "cell_type": "code",
   "execution_count": 5,
   "metadata": {
    "collapsed": false
   },
   "outputs": [
    {
     "data": {
      "text/plain": [
       "'Friedrich SchillerSÃ¤mtliche Dramen: Kabale und Liebe + Die RÃ¤uber + Wilhelm Tell + Maria Stuart + Die Jungfrau von Orleans + Wallenstein + Don Karlos, Infant von Spanien und mehr(VollstÃ¤ndige Ausgaben)Die Braut von Messina oder die feindlichen BrÃ¼der + Die VerschwÃ¶rung des Fiesco zu Genua + Demetrius + Die Huldigung der KÃ¼nste + Der versÃ¶hnte Menschenfeind + Semele'"
      ]
     },
     "execution_count": 5,
     "metadata": {},
     "output_type": "execute_result"
    }
   ],
   "source": [
    "txt"
   ]
  },
  {
   "cell_type": "code",
   "execution_count": null,
   "metadata": {
    "collapsed": true
   },
   "outputs": [],
   "source": []
  }
 ],
 "metadata": {
  "kernelspec": {
   "display_name": "Python 3",
   "language": "python",
   "name": "python3"
  },
  "language_info": {
   "codemirror_mode": {
    "name": "ipython",
    "version": 3
   },
   "file_extension": ".py",
   "mimetype": "text/x-python",
   "name": "python",
   "nbconvert_exporter": "python",
   "pygments_lexer": "ipython3",
   "version": "3.6.0"
  }
 },
 "nbformat": 4,
 "nbformat_minor": 2
}
