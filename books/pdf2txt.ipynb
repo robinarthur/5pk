{
 "cells": [
  {
   "cell_type": "code",
   "execution_count": null,
   "metadata": {
    "collapsed": false
   },
   "outputs": [],
   "source": [
    "from wand.image import Image\n",
    "from PIL import Image as PI\n",
    "import pyocr\n",
    "import pyocr.builders\n",
    "import io\n",
    "import sys"
   ]
  },
  {
   "cell_type": "code",
   "execution_count": null,
   "metadata": {
    "collapsed": false
   },
   "outputs": [],
   "source": [
    "tools = pyocr.get_available_tools()\n",
    "#if len(tools) == 0:\n",
    "#    print(\"No OCR tool found\")\n",
    "#    sys.exit(1)\n",
    "tool = tools[0]\n",
    "lang = tool.get_available_languages()[0]\n",
    "\n",
    "#lists for the temporary image and the final text\n",
    "req_image = []\n",
    "final_text = []\n",
    "PDF_FILE_NAME = \"./5pk_deutsch_gedanken.pdf\"\n",
    "\n",
    "#open the pdf file using wand and convert it to jpeg\n",
    "image_pdf = Image(filename='./Faust-Ein-Fragment.pdf', resolution=300)\n",
    "image_jpeg = image_pdf.convert('jpeg')\n",
    "\n",
    "#every page was converted into seperate image blob, loop over to store them in the req_image\n",
    "for img in image_jpeg.sequence:\n",
    "    img_page = Image(image=img)\n",
    "    req_image.append(img_page.make_blob('jpeg'))\n",
    "\n",
    "#run the ocr over the image blobs\n",
    "for img in req_image:\n",
    "    txt = tool.image_to_string(\n",
    "        PI.open(io.BytesIO(img)),\n",
    "        lang=lang,\n",
    "        builder=pyocr.builders.TextBuilder()   \n",
    "    )\n",
    "    final_text.append(txt)"
   ]
  },
  {
   "cell_type": "code",
   "execution_count": null,
   "metadata": {
    "collapsed": false
   },
   "outputs": [],
   "source": [
    "#for debugging\n",
    "print(final_text)\n",
    "print(lang)"
   ]
  },
  {
   "cell_type": "code",
   "execution_count": null,
   "metadata": {
    "collapsed": true
   },
   "outputs": [],
   "source": []
  }
 ],
 "metadata": {
  "anaconda-cloud": {},
  "kernelspec": {
   "display_name": "Python 2",
   "language": "python",
   "name": "python2"
  },
  "language_info": {
   "codemirror_mode": {
    "name": "ipython",
    "version": 2
   },
   "file_extension": ".py",
   "mimetype": "text/x-python",
   "name": "python",
   "nbconvert_exporter": "python",
   "pygments_lexer": "ipython2",
   "version": "2.7.13"
  }
 },
 "nbformat": 4,
 "nbformat_minor": 1
}
