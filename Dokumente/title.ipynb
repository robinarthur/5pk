{
 "cells": [
  {
   "cell_type": "code",
   "execution_count": null,
   "metadata": {},
   "outputs": [],
   "source": [
    "'Ein Bild sagt mehr als tausend Worte. '\n",
    "\n",
    "'Inwieweit lassen sich Änderungen von Friedrich Schillers Schriftsprache \\\n",
    "durch Computerlinguistik qualifizieren und kann man parallelen zur \\\n",
    "Verschmelzung von 'Aufklärung' \\\n",
    "und 'Sturm und Drang' hin zur 'Weimarer Klassik' damit nachweisen?'\n",
    "\n",
    "\n",
    "'Expose:\\\n",
    "        \\\n",
    "    Textanalysen sind in der Oberstufe sehr wichtig und nehmen viel\\\n",
    "    Zeit des Unterrichts in Anspruch. Moderne Methoden der Computerlinguistik\\\n",
    "    können uns schon heute Details über einen Text erzählen, die manuell sehr schwer oder gar nicht zu bekommen wären. \\\n",
    "    Diesen Umstand möchte ich nutzen um die Texte und Werke von Friedrich Schiller statistisch auszuwerten und zu über- \\\n",
    "    prüfen, ob es einen signifikanten 'Bruch' um 1786 in der Art und Weise wie Schiller seine Texte aufbaute, gibt. \\\n",
    "    \\\n",
    "    Hierfür wird versucht soviele Werke von Schiller (Dramen, Gedichte, Erzählungen) mit einzubeziehen, wie möglich.\\\n",
    "    Es werden sicherlich nicht alle digital zu finden sein, aber je mehr Daten für die Analyse vorhanden sind, desto \\\n",
    "    aussagekräftiger für das 'Ergebnis'. \\\n",
    "    \\\n",
    "    Mithilfe der Scriptsprache Python werden Funktionen und Methoden erstellt um die Texte zu bereinigen (Verlagsangaben, \\\n",
    "    Seitenzahlen,...), sodass am Ende nur noch der reine Text vorhanden ist. Dieser Text wird dann Buchweise in einer \\\n",
    "    Datenbank gespeichert. Nachdem genügend Material zur Auswertung vorhanden ist, kommen wieder selbstgeschriebene \\\n",
    "    Funktionen zum Einsatz. \\\n",
    "    \\\n",
    "    Diese können nun Sachen wie Satzlänge, die häufigsten Wörter, die häufigsten Wortformen (Substantiv, Verb, Adjektiv, \\\n",
    "    + ca. 20 weitere Arten), ausgeben sodass am Ende jedes Werk in jeder Kategorie eigene Werte haben sollte. Diese \\\n",
    "    lassen sich nun über das Erscheinungsjahr hinweg vergleichen. Wenn diese Daten einmal vorhanden sind, lassen sich \\ \n",
    "    auch sehr schnell eigene Kennzahlen aus dem Verhältnis von bestimmten Wortformen bilden.\\\n",
    "    Interessant wären hier bestimmt Verhältnisse mit Adjektiven, da diese für eine eher blumige Sprache benötigt werden.\\\n",
    "    Aber das gilt es in meiner Arbeit näher zu untersuchen.\\\n",
    "    \\\n",
    "    Desweiteren gibt es noch fertige Algorithmen (Lesbarkeitsindex), die Mithilfe von Statistiken der Texte die Lesbarkeit,\\\n",
    "    die Komplexität und am Ende eine Kennzahl ausgeben, welche eine mindest Klassenstufe vorschlägt um die Texte zu verstehen\\\n",
    "    u.a. Flesch-Reading-Ease, Flesch-Kincaid-Grade-Level, Gunning-Fog-Index)\\\n",
    "    \\\n",
    "    Im Idealfall habe ich am Ende eine Grafik, worin unterschiedliche Kennzahlen um das Jahr 1786 herum entweder eine \\\n",
    "    deutliche Änderung anzeigen oder eben nicht. Wahrscheinlicher ist aber, dass es für jede einzelne Rubrik \\\n",
    "    (Drama, Gedicht, Erzählung,...) auch entsprechend eigene Grafiken geben wird.\\\n",
    "    \\\n",
    "\n",
    "    \n",
    "\n"
   ]
  }
 ],
 "metadata": {
  "kernelspec": {
   "display_name": "Python 3",
   "language": "python",
   "name": "python3"
  },
  "language_info": {
   "codemirror_mode": {
    "name": "ipython",
    "version": 3
   },
   "file_extension": ".py",
   "mimetype": "text/x-python",
   "name": "python",
   "nbconvert_exporter": "python",
   "pygments_lexer": "ipython3",
   "version": "3.6.4"
  }
 },
 "nbformat": 4,
 "nbformat_minor": 2
}
